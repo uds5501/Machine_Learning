{
 "cells": [
  {
   "cell_type": "code",
   "execution_count": 1,
   "metadata": {},
   "outputs": [],
   "source": [
    "import matplotlib.pyplot as plt\n",
    "import seaborn as sns\n",
    "import numpy as np\n",
    "import pandas as pd\n",
    "%matplotlib inline"
   ]
  },
  {
   "cell_type": "code",
   "execution_count": 2,
   "metadata": {},
   "outputs": [],
   "source": [
    "chat=open('WhatsApp Chat with Priya Singh - CSE.txt','r')"
   ]
  },
  {
   "cell_type": "code",
   "execution_count": 3,
   "metadata": {},
   "outputs": [],
   "source": [
    "x=[line for line in chat]"
   ]
  },
  {
   "cell_type": "code",
   "execution_count": 10,
   "metadata": {},
   "outputs": [
    {
     "data": {
      "text/plain": [
       "'19/11/17, 18:04 - Messages to this chat and calls are now secured with end-to-end encryption. Tap for more info.\\n'"
      ]
     },
     "execution_count": 10,
     "metadata": {},
     "output_type": "execute_result"
    }
   ],
   "source": [
    "x[0]"
   ]
  },
  {
   "cell_type": "code",
   "execution_count": 5,
   "metadata": {},
   "outputs": [
    {
     "data": {
      "text/plain": [
       "'19/11/17, 20:21 - Uddeshya Singh: Gadhi\\n'"
      ]
     },
     "execution_count": 5,
     "metadata": {},
     "output_type": "execute_result"
    }
   ],
   "source": [
    "x[1]"
   ]
  },
  {
   "cell_type": "code",
   "execution_count": 6,
   "metadata": {},
   "outputs": [
    {
     "data": {
      "text/plain": [
       "['19/11/17,', '20:21', '-', 'Uddeshya', 'Singh:', 'Gadhi']"
      ]
     },
     "execution_count": 6,
     "metadata": {},
     "output_type": "execute_result"
    }
   ],
   "source": [
    "x[1].split()"
   ]
  },
  {
   "cell_type": "code",
   "execution_count": 13,
   "metadata": {},
   "outputs": [],
   "source": [
    "bleh=['hello','world','wow','yay','nay','illle']"
   ]
  },
  {
   "cell_type": "code",
   "execution_count": 16,
   "metadata": {},
   "outputs": [
    {
     "name": "stdout",
     "output_type": "stream",
     "text": [
      "world wow yay nay\n"
     ]
    }
   ],
   "source": [
    "#ran=\"\"\n",
    "#for i in range(1,len(bleh)-1):\n",
    "#    ran=ran+\" \"+ str(bleh[i])\n",
    "#print ran.strip()    \n"
   ]
  },
  {
   "cell_type": "code",
   "execution_count": null,
   "metadata": {},
   "outputs": [],
   "source": []
  },
  {
   "cell_type": "code",
   "execution_count": 49,
   "metadata": {},
   "outputs": [],
   "source": [
    "messeges=[]\n",
    "sender=[]\n",
    "date=[]"
   ]
  },
  {
   "cell_type": "code",
   "execution_count": 40,
   "metadata": {},
   "outputs": [
    {
     "data": {
      "text/plain": [
       "['20/11/17,', '19:18', '-', 'Priya', 'Singh', '-', 'CSE:', 'Ha', 'KR', 'diya']"
      ]
     },
     "execution_count": 40,
     "metadata": {},
     "output_type": "execute_result"
    }
   ],
   "source": [
    "x[6].split()"
   ]
  },
  {
   "cell_type": "markdown",
   "metadata": {},
   "source": [
    "# Note\n",
    "1 means *Uddeshya*    \n",
    "0 means the other person"
   ]
  },
  {
   "cell_type": "code",
   "execution_count": 42,
   "metadata": {},
   "outputs": [],
   "source": [
    "def splitter(mess_array):\n",
    "    date.append(mess_array[0])\n",
    "    if mess_array[3].lower()=='priya':\n",
    "        sender.append(0)\n",
    "        aux_str=\"\"\n",
    "        for i in range(7,len(mess_array)):\n",
    "            aux_str=aux_str+\" \"+str(mess_array[i])\n",
    "        messeges.append(aux_str.strip())\n",
    "    else:\n",
    "        sender.append(1)\n",
    "        aux_str=\"\"\n",
    "        for i in range(5,len(mess_array)):\n",
    "            aux_str=aux_str+\" \"+str(mess_array[i])\n",
    "        messeges.append(aux_str.strip())\n",
    "    \n",
    "    "
   ]
  },
  {
   "cell_type": "code",
   "execution_count": 35,
   "metadata": {},
   "outputs": [],
   "source": [
    "splitter(x[7].split())"
   ]
  },
  {
   "cell_type": "code",
   "execution_count": 36,
   "metadata": {},
   "outputs": [
    {
     "data": {
      "text/plain": [
       "'20/11/17, 19:23 - Uddeshya Singh: SKS mila?\\n'"
      ]
     },
     "execution_count": 36,
     "metadata": {},
     "output_type": "execute_result"
    }
   ],
   "source": [
    "x[7]"
   ]
  },
  {
   "cell_type": "code",
   "execution_count": 43,
   "metadata": {},
   "outputs": [
    {
     "name": "stdout",
     "output_type": "stream",
     "text": [
      "[]\n",
      "[]\n",
      "[]\n"
     ]
    }
   ],
   "source": [
    "print messeges\n",
    "print sender\n",
    "print date"
   ]
  },
  {
   "cell_type": "code",
   "execution_count": 50,
   "metadata": {},
   "outputs": [
    {
     "name": "stdout",
     "output_type": "stream",
     "text": [
      "['19/11/17,', '20:21', '-', 'Uddeshya', 'Singh:', 'Gadhi']\n",
      "['19/11/17,', '23:53', '-', 'Uddeshya', 'Singh:', 'Script', 'type', 'kar', 'sakti', 'hai?']\n",
      "['19/11/17,', '23:53', '-', 'Uddeshya', 'Singh:', 'Abhi', 'imp', 'kaam', 'hai.', 'Messege', 'ka', 'reply', 'de', 'sakti', 'hai', 'tu']\n",
      "['20/11/17,', '15:32', '-', 'Uddeshya', 'Singh:', 'Oye']\n",
      "['20/11/17,', '15:32', '-', 'Uddeshya', 'Singh:', 'Form', 'submit', 'kara?']\n",
      "['20/11/17,', '19:18', '-', 'Priya', 'Singh', '-', 'CSE:', 'Ha', 'KR', 'diya']\n",
      "['20/11/17,', '19:23', '-', 'Uddeshya', 'Singh:', 'SKS', 'mila?']\n",
      "['20/11/17,', '19:26', '-', 'Priya', 'Singh', '-', 'CSE:', 'So?']\n",
      "['20/11/17,', '19:26', '-', 'Priya', 'Singh', '-', 'CSE:', '*sks?']\n",
      "['20/11/17,', '19:27', '-', 'Uddeshya', 'Singh:', 'Sks']\n",
      "['20/11/17,', '19:27', '-', 'Uddeshya', 'Singh:', 'Mech', 'vaala']\n",
      "['20/11/17,', '19:27', '-', 'Uddeshya', 'Singh:', 'CSA', 'me?']\n",
      "['20/11/17,', '19:28', '-', 'Priya', 'Singh', '-', 'CSE:', 'Kaun?']\n",
      "['20/11/17,', '19:28', '-', 'Uddeshya', 'Singh:', 'Abe', 'yaar']\n",
      "['20/11/17,', '19:28', '-', 'Uddeshya', 'Singh:', 'Mechanics', 'ka', 'prof']\n",
      "['20/11/17,', '19:28', '-', 'Priya', 'Singh', '-', 'CSE:', 'Acha....']\n",
      "['20/11/17,', '19:28', '-', 'Priya', 'Singh', '-', 'CSE:', 'Nhi']\n",
      "['20/11/17,', '19:28', '-', 'Uddeshya', 'Singh:', 'Jo', 'tumhare', 'and', 'pratishtha', 'ke', 'maje', 'leta', 'hai']\n",
      "['20/11/17,', '19:28', '-', 'Priya', 'Singh', '-', 'CSE:', 'Nhi', 'mila']\n",
      "['20/11/17,', '19:28', '-', 'Uddeshya', 'Singh:', 'Okay.', 'Weird']\n",
      "['20/11/17,', '21:38', '-', 'Uddeshya', 'Singh:', 'Hey']\n",
      "['20/11/17,', '21:49', '-', 'Priya', 'Singh', '-', 'CSE:', 'Missed', 'voice', 'call']\n",
      "['21/11/17,', '00:20', '-', 'Uddeshya', 'Singh:', 'Hello']\n",
      "['21/11/17,', '12:23', '-', 'Uddeshya', 'Singh:', 'Aajke', 'maths', 'ke', 'notes', 'bhej', 'de']\n",
      "['21/11/17,', '12:23', '-', 'Priya', 'Singh', '-', 'CSE:', 'Main', 'nhi', 'thi', 'class', 'mein']\n",
      "['21/11/17,', '12:23', '-', 'Uddeshya', 'Singh:', 'Oh.', 'Tum', 'bhi', 'xD']\n",
      "['21/11/17,', '12:23', '-', 'Priya', 'Singh', '-', 'CSE:', 'Yeah']\n",
      "['21/11/17,', '12:23', '-', 'Uddeshya', 'Singh:', 'Hostel', 'me', 'ho?']\n",
      "['21/11/17,', '12:24', '-', 'Priya', 'Singh', '-', 'CSE:', 'Yeah']\n",
      "['21/11/17,', '12:24', '-', 'Uddeshya', 'Singh:', '\\xf0\\x9f\\x91\\x8d\\xf0\\x9f\\x8f\\xbd']\n",
      "['21/11/17,', '12:35', '-', 'Uddeshya', 'Singh:', '<Media', 'omitted>']\n",
      "['21/11/17,', '22:47', '-', 'Uddeshya', 'Singh:', 'https://youtu.be/PcxmFxH2IFQ']\n",
      "['21/11/17,', '22:47', '-', 'Uddeshya', 'Singh:', 'New', 'video', 'in', '3d', 'modelling', 'series']\n",
      "['21/11/17,', '22:47', '-', 'Uddeshya', 'Singh:', 'Try', 'it?']\n",
      "['21/11/17,', '22:52', '-', 'Priya', 'Singh', '-', 'CSE:', 'Ok']\n",
      "['21/11/17,', '22:52', '-', 'Uddeshya', 'Singh:', 'Plz', 'sub', 'and', 'like', 'the', 'vid']\n",
      "['22/11/17,', '16:18', '-', 'Uddeshya', 'Singh:', 'Hello']\n",
      "['22/11/17,', '16:18', '-', 'Uddeshya', 'Singh:', 'Sun']\n",
      "['22/11/17,', '16:18', '-', 'Uddeshya', 'Singh:', 'Green', 'theorem', 'samjha', 'de?']\n",
      "['22/11/17,', '16:18', '-', 'Uddeshya', 'Singh:', '\\xf0\\x9f\\x98\\x93']\n",
      "['23/11/17,', '12:14', '-', 'Uddeshya', 'Singh:', 'https://youtu.be/BO_4Y3StyvY']\n",
      "['23/11/17,', '12:14', '-', 'Uddeshya', 'Singh:', 'My', 'tutorial', 'on', 'how', 'to', 'install', 'wireshark,', 'network', 'analyser', 'tool']\n",
      "['23/11/17,', '12:14', '-', 'Uddeshya', 'Singh:', 'In', 'ubuntu']\n",
      "['23/11/17,', '12:14', '-', 'Uddeshya', 'Singh:', 'Please', 'watch', 'it,', 'like', 'share', 'and', 'subscribe!']\n",
      "['23/11/17,', '12:14', '-', 'Uddeshya', 'Singh:', '*my', 'follow', 'on', 'in', 'how', 'to', 'install', 'wireshark']\n",
      "['23/11/17,', '13:06', '-', 'Priya', 'Singh', '-', 'CSE:', 'Kya', 'Hai', 'ye?']\n",
      "['23/11/17,', '13:11', '-', 'Uddeshya', 'Singh:', '-.-']\n",
      "['23/11/17,', '13:11', '-', 'Uddeshya', 'Singh:', 'Vectors', 'me', 'hai']\n",
      "['23/11/17,', '20:16', '-', 'Uddeshya', 'Singh:', 'Sun', 'gadhi']\n",
      "['23/11/17,', '20:40', '-', 'Priya', 'Singh', '-', 'CSE:', '<Media', 'omitted>']\n",
      "['23/11/17,', '20:40', '-', 'Priya', 'Singh', '-', 'CSE:', '<Media', 'omitted>']\n",
      "['23/11/17,', '20:40', '-', 'Priya', 'Singh', '-', 'CSE:', '<Media', 'omitted>']\n",
      "['23/11/17,', '20:40', '-', 'Priya', 'Singh', '-', 'CSE:', '<Media', 'omitted>']\n",
      "['23/11/17,', '20:40', '-', 'Priya', 'Singh', '-', 'CSE:', '<Media', 'omitted>']\n",
      "['23/11/17,', '20:40', '-', 'Priya', 'Singh', '-', 'CSE:', '<Media', 'omitted>']\n",
      "['23/11/17,', '20:40', '-', 'Priya', 'Singh', '-', 'CSE:', '<Media', 'omitted>']\n",
      "['23/11/17,', '20:40', '-', 'Priya', 'Singh', '-', 'CSE:', 'Maine', 'kisi', 'aur', 'se', 'dekh', 'KR', 'likhe', 'hai']\n",
      "['23/11/17,', '20:40', '-', 'Uddeshya', 'Singh:', 'Koi', 'ni']\n",
      "['23/11/17,', '20:41', '-', 'Uddeshya', 'Singh:', 'Uhh']\n",
      "['23/11/17,', '20:41', '-', 'Uddeshya', 'Singh:', 'Tujhe', 'ya', 'pata', 'hai', 'na', 'ki', 'ye', 'sab', 'assignment', 'file', 'me', 'laga', 'je', 'dene', 'hai?']\n",
      "['23/11/17,', '20:41', '-', 'Uddeshya', 'Singh:', 'Ps.', 'Ur', 'writing', 'is', 'good']\n",
      "['23/11/17,', '20:42', '-', 'Priya', 'Singh', '-', 'CSE:', 'Acha\\xf0\\x9f\\xa4\\x94']\n",
      "['23/11/17,', '20:42', '-', 'Uddeshya', 'Singh:', '<Media', 'omitted>']\n",
      "['23/11/17,', '20:42', '-', 'Uddeshya', 'Singh:', 'For', 'reference']\n",
      "['23/11/17,', '21:29', '-', 'Uddeshya', 'Singh:', 'Sun', 'gadhi']\n",
      "['23/11/17,', '21:29', '-', 'Uddeshya', 'Singh:', 'Abhi', 'kya', 'kar', 'rahi', 'hai?']\n",
      "['23/11/17,', '21:30', '-', 'Priya', 'Singh', '-', 'CSE:', 'Mere', 'liye', 'bhi', 'le', 'aana']\n",
      "['23/11/17,', '21:30', '-', 'Uddeshya', 'Singh:', 'Zaroor\\xf0\\x9f\\x98\\x92']\n",
      "['23/11/17,', '21:31', '-', 'Uddeshya', 'Singh:', 'Saath', 'me', 'chalna', 'ho', 'chal', 'lio']\n",
      "['23/11/17,', '21:31', '-', 'Uddeshya', 'Singh:', 'Akele', 'laane', 'ke', 'drame', 'mai', 'naa', 'karra']\n",
      "['23/11/17,', '21:32', '-', 'Priya', 'Singh', '-', 'CSE:', 'Oho', 'aalsi']\n",
      "['23/11/17,', '21:32', '-', 'Priya', 'Singh', '-', 'CSE:', 'Kmine']\n",
      "['23/11/17,', '21:33', '-', 'Uddeshya', 'Singh:', 'Naukar', 'samajh', 'rakha', 'hai', 'kya?', 'Baat', 'dhang', 'se', 'karni', 'ni.', 'Kaam', 'poora', 'chahiye\\xf0\\x9f\\x98\\x92\\xf0\\x9f\\x98\\x92']\n",
      "['23/11/17,', '21:33', '-', 'Priya', 'Singh', '-', 'CSE:', 'Oh', 'mister']\n",
      "['23/11/17,', '21:34', '-', 'Priya', 'Singh', '-', 'CSE:', 'Maine', 'Diya', 'pc', 'ka', 'assgn', 'to', 'itna', 'return', 'mein', 'bnta', 'hai']\n",
      "['23/11/17,', '21:35', '-', 'Uddeshya', 'Singh:', 'Pehli', 'baar', 'to', 'tune', 'kuchh', 'kaam', 'kia', 'hai.', 'Usme', 'bhi', 'drame']\n",
      "['23/11/17,', '21:35', '-', 'Uddeshya', 'Singh:', '\\xf0\\x9f\\x98\\x92']\n",
      "['23/11/17,', '21:35', '-', 'Uddeshya', 'Singh:', 'Seedhi', 'baat.', 'Saath', 'chalna', 'ho.', 'Chal', 'lio']\n",
      "['23/11/17,', '21:35', '-', 'Uddeshya', 'Singh:', 'Akele', 'mai', 'na', 'nikal', 'raha']\n",
      "['23/11/17,', '21:42', '-', 'Uddeshya', 'Singh:', 'Samajh', 'gayi?']\n",
      "['23/11/17,', '21:56', '-', 'Uddeshya', 'Singh:', 'Gadhi\\xf0\\x9f\\x98\\x91']\n",
      "['23/11/17,', '22:06', '-', 'Priya', 'Singh', '-', 'CSE:', 'Marjaa']\n",
      "['23/11/17,', '22:58', '-', 'Uddeshya', 'Singh:', 'Tu', 'marjaa']\n",
      "['23/11/17,', '22:58', '-', 'Uddeshya', 'Singh:', '\\xf0\\x9f\\x98\\x91\\xf0\\x9f\\x98\\x92']\n",
      "['23/11/17,', '23:02', '-', 'Uddeshya', 'Singh:', 'Gwsshfs5']\n",
      "['23/11/17,', '23:07', '-', 'Uddeshya', 'Singh:', 'Kya', 'kar', 'ri', 'hai']\n",
      "['23/11/17,', '23:07', '-', 'Uddeshya', 'Singh:', 'Gadhi?']\n",
      "['23/11/17,', '23:26', '-', 'Uddeshya', 'Singh:', 'Ye', 'to', 'sirf', '3', 'ques', 'hue']\n",
      "['23/11/17,', '23:26', '-', 'Uddeshya', 'Singh:', 'Ek', 'aapne', 'kia', 'ni']\n",
      "['23/11/17,', '23:26', '-', 'Uddeshya', 'Singh:', 'To', 'ek', 'jo', 'bacha', 'vo', 'kaha', 'gaya?']\n",
      "['24/11/17,', '00:25', '-', 'Uddeshya', 'Singh:', '\\xf0\\x9f\\x98\\xa0']\n",
      "['24/11/17,', '00:25', '-', 'Uddeshya', 'Singh:', 'Jab', 'time', 'mile']\n",
      "['24/11/17,', '00:25', '-', 'Uddeshya', 'Singh:', 'Tab', 'bata', 'dio']\n",
      "['24/11/17,', '00:26', '-', 'Uddeshya', 'Singh:', 'Although', 'ye', 'vaala', 'mast', 'thaa', 'xD\\xf0\\x9f\\xa4\\xa3']\n",
      "['24/11/17,', '00:26', '-', 'Priya', 'Singh', '-', 'CSE:', 'Thanks']\n",
      "['24/11/17,', '00:27', '-', 'Uddeshya', 'Singh:', 'Isme', 'chana', 'word', 'bhi', 'daal', 'de\\xf0\\x9f\\x98\\x82']\n",
      "['24/11/17,', '00:27', '-', 'Uddeshya', 'Singh:', 'Screen', 'shot', 'leke', 'uske', 'maje', 'lunga']\n",
      "['24/11/17,', '00:27', '-', 'Uddeshya', 'Singh:', 'PLEAASEEE']\n",
      "['24/11/17,', '00:30', '-', 'Priya', 'Singh', '-', 'CSE:', 'Are', 'yrr']\n",
      "['24/11/17,', '00:30', '-', 'Uddeshya', 'Singh:', 'Sahi', 'me', 'yaar']\n",
      "['24/11/17,', '00:30', '-', 'Uddeshya', 'Singh:', 'Tujhe', '2', 'samose', 'ki', 'party\\xf0\\x9f\\xa4\\xa3']\n",
      "['24/11/17,', '00:30', '-', 'Uddeshya', 'Singh:', 'Bas', 'usme', 'chane', 'word', 'add', 'kar', 'de']\n",
      "['24/11/17,', '00:30', '-', 'Uddeshya', 'Singh:', '\\xf0\\x9f\\xa4\\xa3\\xf0\\x9f\\xa4\\xa3\\xf0\\x9f\\xa4\\xa3']\n",
      "['24/11/17,', '00:31', '-', 'Priya', 'Singh', '-', 'CSE:', 'Nhi', 'Pratishtha', 'Mana', 'KR', 'rhi', 'hai']\n",
      "['24/11/17,', '00:31', '-', 'Priya', 'Singh', '-', 'CSE:', 'Vrna', 'likh', 'deti']\n",
      "['24/11/17,', '00:31', '-', 'Uddeshya', 'Singh:', 'Arree', 'yaar', '\\xf0\\x9f\\x98\\xb6\\xf0\\x9f\\x98\\xb6\\xf0\\x9f\\x98\\xb6\\xf0\\x9f\\x98\\xb6\\xf0\\x9f\\x98\\xb6\\xf0\\x9f\\x98\\xb6']\n",
      "['24/11/17,', '00:33', '-', 'Uddeshya', 'Singh:', 'Chal.', 'Koi', 'na']\n",
      "['24/11/17,', '00:33', '-', 'Uddeshya', 'Singh:', 'Ek', 'sec']\n",
      "['24/11/17,', '00:33', '-', 'Uddeshya', 'Singh:', '2', 'pratishtha...']\n",
      "['24/11/17,', '00:34', '-', 'Uddeshya', 'Singh:', 'Okay.', 'Nvm']\n",
      "['24/11/17,', '08:33', '-', 'Uddeshya', 'Singh:', 'Pehle', 'mera', 'naam', 'likhna', 'seekh', 'lo', 'maharaani\\xf0\\x9f\\xa4\\xa3']\n",
      "['24/11/17,', '08:54', '-', 'Priya', 'Singh', '-', 'CSE:', 'Itna', 'difficult', 'naam', 'rkha', 'hi', 'Kyu', 'tha']\n",
      "['24/11/17,', '08:55', '-', 'Uddeshya', 'Singh:', '\\xf0\\x9f\\x98\\x9c']\n",
      "['24/11/17,', '08:55', '-', 'Uddeshya', 'Singh:', 'Vo', 'mere', 'parents', 'se', 'po9ch']\n",
      "['24/11/17,', '08:55', '-', 'Uddeshya', 'Singh:', '*pooch']\n",
      "['24/11/17,', '08:56', '-', 'Priya', 'Singh', '-', 'CSE:', '\\xf0\\x9f\\x98\\x92']\n",
      "['24/11/17,', '08:56', '-', 'Uddeshya', 'Singh:', '\\xf0\\x9f\\x98\\x92\\xf0\\x9f\\x98\\x92']\n",
      "['24/11/17,', '08:56', '-', 'Priya', 'Singh', '-', 'CSE:', '\\xf0\\x9f\\x98\\xa1']\n",
      "['24/11/17,', '08:56', '-', 'Uddeshya', 'Singh:', '\\xf0\\x9f\\x98\\x9b']\n",
      "['24/11/17,', '08:56', '-', 'Uddeshya', 'Singh:', '*pats', 'ur', 'head']\n",
      "['24/11/17,', '09:05', '-', 'Uddeshya', 'Singh:', 'Abhi', 'ruk.', 'Tera', 'likhta', 'hu']\n",
      "['24/11/17,', '09:06', '-', 'Uddeshya', 'Singh:', '\\xf0\\x9f\\xa4\\xa3\\xf0\\x9f\\xa4\\xa3\\xf0\\x9f\\xa4\\xa3']\n",
      "['24/11/17,', '09:55', '-', 'Priya', 'Singh', '-', 'CSE:', 'Chup', 're']\n",
      "['24/11/17,', '12:43', '-', 'Uddeshya', 'Singh:', 'Zaroor']\n",
      "['24/11/17,', '12:43', '-', 'Uddeshya', 'Singh:', '\\xf0\\x9f\\x98\\x9b']\n",
      "['24/11/17,', '14:51', '-', 'Priya', 'Singh', '-', 'CSE:', 'Kaha', 'hai', 'tu?']\n",
      "['24/11/17,', '14:51', '-', 'Priya', 'Singh', '-', 'CSE:', 'Missed', 'voice', 'call']\n",
      "['24/11/17,', '14:52', '-', 'Priya', 'Singh', '-', 'CSE:', 'Missed', 'voice', 'call']\n",
      "['24/11/17,', '14:54', '-', 'Uddeshya', 'Singh:', 'Bol']\n",
      "['24/11/17,', '14:54', '-', 'Uddeshya', 'Singh:', 'Kya', 'hua?']\n",
      "['24/11/17,', '14:54', '-', 'Uddeshya', 'Singh:', 'Role', 'play', 'to', 'print', 'hua', 'ni', 'hamara']\n",
      "['24/11/17,', '14:54', '-', 'Uddeshya', 'Singh:', '\\xf0\\x9f\\x98\\xb6']\n",
      "['24/11/17,', '14:54', '-', 'Uddeshya', 'Singh:', 'Ab?']\n",
      "['24/11/17,', '18:59', '-', 'Uddeshya', 'Singh:', 'Call', 'q', 'kia', 'tha?']\n",
      "['24/11/17,', '19:45', '-', 'Priya', 'Singh', '-', 'CSE:', 'Ha']\n",
      "['24/11/17,', '19:45', '-', 'Uddeshya', 'Singh:', 'Kya', 'ha?']\n",
      "['24/11/17,', '19:47', '-', 'Priya', 'Singh', '-', 'CSE:', 'Kuch', 'ni']\n",
      "['24/11/17,', '19:47', '-', 'Uddeshya', 'Singh:', 'Walk', 'karne', 'gayi', 'thi?']\n",
      "['24/11/17,', '19:47', '-', 'Priya', 'Singh', '-', 'CSE:', 'Yeah']\n",
      "['24/11/17,', '19:48', '-', 'Uddeshya', 'Singh:', 'Okayyyyyyyy']\n",
      "['24/11/17,', '19:48', '-', 'Uddeshya', 'Singh:', 'Ab', 'teri', 'life', 'ke', 'upar', 'aane', 'waala', 'hai']\n",
      "['24/11/17,', '19:48', '-', 'Uddeshya', 'Singh:', 'Bhot', 'jaldi']\n",
      "['24/11/17,', '22:15', '-', 'Priya', 'Singh', '-', 'CSE:', 'Kya?']\n",
      "['24/11/17,', '22:39', '-', 'Uddeshya', 'Singh:', 'Mera', 'sar']\n",
      "['25/11/17,', '08:50', '-', 'Priya', 'Singh', '-', 'CSE:', 'Acha']\n",
      "['25/11/17,', '08:54', '-', 'Uddeshya', 'Singh:', 'Good', 'morning']\n",
      "['25/11/17,', '08:55', '-', 'Priya', 'Singh', '-', 'CSE:', 'Aaj', 'chuti', 'Hai?']\n",
      "['25/11/17,', '08:56', '-', 'Uddeshya', 'Singh:', 'I', 'guess']\n",
      "['25/11/17,', '08:58', '-', 'Uddeshya', 'Singh:', 'Who', 'is', 'going', 'anyway']\n",
      "['25/11/17,', '08:59', '-', 'Uddeshya', 'Singh:', 'Yaha', 'chaddar', 'chhodne', 'ka', 'man', 'ni', 'horaha']\n",
      "['25/11/17,', '08:59', '-', 'Uddeshya', 'Singh:', '\\xf0\\x9f\\x98\\x90']\n",
      "['25/11/17,', '09:32', '-', 'Priya', 'Singh', '-', 'CSE:', 'File', 'check', 'krnaane', 'jaaungi']\n",
      "['25/11/17,', '09:37', '-', 'Uddeshya', 'Singh:', 'Lab', 'khuli', 'hogi?']\n",
      "['25/11/17,', '10:40', '-', 'Priya', 'Singh', '-', 'CSE:', 'Main', 'Abhi', 'nhi', 'gayi']\n",
      "['25/11/17,', '10:43', '-', 'Uddeshya', 'Singh:', '\\xf0\\x9f\\x91\\x8d\\xf0\\x9f\\x8f\\xbd']\n",
      "['25/11/17,', '10:44', '-', 'Uddeshya', 'Singh:', 'Marja']\n",
      "['25/11/17,', '11:12', '-', 'Priya', 'Singh', '-', 'CSE:', 'Lab', 'band', 'hai']\n",
      "['25/11/17,', '11:15', '-', 'Uddeshya', 'Singh:', 'Ok.', 'Thanks']\n",
      "['25/11/17,', '12:44', '-', 'Uddeshya', 'Singh:', 'Kitne', 'exp', 'likhe?']\n",
      "['25/11/17,', '12:44', '-', 'Uddeshya', 'Singh:', 'A', 'part', 'me?']\n",
      "['25/11/17,', '13:28', '-', 'Uddeshya', 'Singh:', 'Hello.', 'U', 'gorgeous', 'lady']\n",
      "['25/11/17,', '13:29', '-', 'Uddeshya', 'Singh:', 'Could', 'u', 'please', 'tell', 'me', 'how', 'many', 'experiments', 'u', 'have', 'written', 'in', 'ur', 'A', 'part?']\n",
      "['25/11/17,', '14:02', '-', 'Uddeshya', 'Singh:', 'Gadhi.', 'Reply', 'karle']\n",
      "['25/11/17,', '14:02', '-', 'Uddeshya', 'Singh:', '\\xf0\\x9f\\x98\\xa0']\n",
      "['25/11/17,', '14:03', '-', 'Priya', 'Singh', '-', 'CSE:', '\\xf0\\x9f\\x98\\x9d']\n",
      "['25/11/17,', '14:03', '-', 'Uddeshya', 'Singh:', 'Aaj', 'tu', 'ruk']\n",
      "['25/11/17,', '14:03', '-', 'Uddeshya', 'Singh:', 'Raat', 'me', 'tujhe', 'irritate', 'karunga']\n",
      "['25/11/17,', '14:04', '-', 'Uddeshya', 'Singh:', '\\xf0\\x9f\\x98\\x92\\xf0\\x9f\\x98\\x92\\xf0\\x9f\\x98\\x92\\xf0\\x9f\\x98\\x92\\xf0\\x9f\\x98\\x92\\xf0\\x9f\\x98\\x92\\xf0\\x9f\\x98\\x92\\xf0\\x9f\\x98\\x92\\xf0\\x9f\\x98\\x92\\xf0\\x9f\\x98\\x92']\n",
      "['25/11/17,', '18:14', '-', 'Priya', 'Singh', '-', 'CSE:', 'Chal']\n",
      "['25/11/17,', '18:14', '-', 'Priya', 'Singh', '-', 'CSE:', 'Acha', 'call', 'Kyu', 'kiya', 'Tha?']\n",
      "['25/11/17,', '18:20', '-', 'Uddeshya', 'Singh:', 'U', 'guys', 'going', 'to', 'cultural', 'eve?']\n",
      "['25/11/17,', '18:21', '-', 'Uddeshya', 'Singh:', 'And', 'u', 'look', 'so', 'cute..']\n",
      "['25/11/17,', '18:21', '-', 'Uddeshya', 'Singh:', 'Please', 'jo', 'report', 'aapne', 'likhi', 'hai..Vo', 'send', 'karde?']\n",
      "['25/11/17,', '18:28', '-', 'Priya', 'Singh', '-', 'CSE:', 'Tere', 'dimag', 'aaj', 'phir', 'gaya', 'Hai', 'Kya?']\n",
      "['25/11/17,', '18:29', '-', 'Uddeshya', 'Singh:', 'Matlab', 'compliment', 'bhi', 'hajam', 'na', 'hona']\n",
      "['25/11/17,', '18:29', '-', 'Uddeshya', 'Singh:', '?']\n",
      "['25/11/17,', '18:29', '-', 'Uddeshya', 'Singh:', '??']\n",
      "['25/11/17,', '21:34', '-', 'Uddeshya', 'Singh:', 'GADHI']\n",
      "['26/11/17,', '21:41', '-', 'Uddeshya', 'Singh:', 'Hey']\n",
      "['26/11/17,', '21:41', '-', 'Uddeshya', 'Singh:', 'I', 'needed', 'some', 'help']\n",
      "['26/11/17,', '21:41', '-', 'Uddeshya', 'Singh:', 'Could', 'u', 'please', 'forward', 'me', 'report', 'and', 'technical', 'proposal?']\n",
      "['27/11/17,', '01:51', '-', 'Uddeshya', 'Singh:', '<Media', 'omitted>']\n",
      "['27/11/17,', '01:51', '-', 'Uddeshya', 'Singh:', '<Media', 'omitted>']\n",
      "['27/11/17,', '01:52', '-', 'Uddeshya', 'Singh:', 'Hisaab', 'barabar']\n",
      "['27/11/17,', '09:39', '-', 'Priya', 'Singh', '-', 'CSE:', 'Thanks']\n",
      "['27/11/17,', '09:51', '-', 'Uddeshya', 'Singh:', '\\xf0\\x9f\\x91\\x8d\\xf0\\x9f\\x8f\\xbd']\n",
      "['27/11/17,', '10:08', '-', 'Priya', 'Singh', '-', 'CSE:', 'Kutte', 'mein', 'pak', 'Pak', 'huh?']\n",
      "['27/11/17,', '10:08', '-', 'Priya', 'Singh', '-', 'CSE:', 'Kmine']\n",
      "['27/11/17,', '10:09', '-', 'Uddeshya', 'Singh:', '\\xf0\\x9f\\xa4\\xa3\\xf0\\x9f\\xa4\\xa3\\xf0\\x9f\\xa4\\xa3']\n",
      "['27/11/17,', '10:09', '-', 'Uddeshya', 'Singh:', 'Vaah.nayi', 'gaali\\xf0\\x9f\\xa4\\xa3\\xf0\\x9f\\xa4\\xa3\\xf0\\x9f\\xa4\\xa3\\xf0\\x9f\\xa4\\xa3\\xf0\\x9f\\xa4\\xa3\\xf0\\x9f\\xa4\\xa3']\n",
      "['27/11/17,', '14:04', '-', 'Uddeshya', 'Singh:', 'Maths', 'ka', 'assignment', 'diya?']\n",
      "['27/11/17,', '14:05', '-', 'Priya', 'Singh', '-', 'CSE:', 'Yeah']\n",
      "['27/11/17,', '14:05', '-', 'Uddeshya', 'Singh:', 'And', 'aaj', 'nayi', 'gaali', 'kese', 'aagyi?']\n",
      "['27/11/17,', '14:05', '-', 'Uddeshya', 'Singh:', 'Beta.', 'Bigadte', 'jaa', 'rahe', 'ho', 'tum\\xf0\\x9f\\xa4\\xa3']\n",
      "['27/11/17,', '14:06', '-', 'Priya', 'Singh', '-', 'CSE:', 'Kyuki', 'tune', 'status', 'itna', 'acha', 'daala']\n",
      "['27/11/17,', '14:06', '-', 'Uddeshya', 'Singh:', 'Hai', 'na.', 'Aankho', 'me', 'khushi', 'ke', 'aasu', 'aagye', 'honge?']\n",
      "['27/11/17,', '14:06', '-', 'Uddeshya', 'Singh:', '\\xf0\\x9f\\x98\\x9b']\n",
      "['27/11/17,', '14:06', '-', 'Priya', 'Singh', '-', 'CSE:', 'Kutte', 'kmine']\n",
      "['27/11/17,', '14:07', '-', 'Uddeshya', 'Singh:', '\\xf0\\x9f\\xa4\\xa3']\n",
      "['27/11/17,', '14:07', '-', 'Uddeshya', 'Singh:', 'Chal.', 'Jaa.', 'Khana', 'khaa']\n",
      "['27/11/17,', '14:07', '-', 'Uddeshya', 'Singh:', '\\xf0\\x9f\\x98\\x9c']\n",
      "['27/11/17,', '23:11', '-', 'Uddeshya', 'Singh:', 'Hey']\n",
      "['27/11/17,', '23:11', '-', 'Uddeshya', 'Singh:', 'You', 'free?']\n",
      "['29/11/17,', '00:54', '-', 'Uddeshya', 'Singh:', 'Electrical', 'ka', 'assignment', 'submit', 'kar', 'rahe', 'ho', 'aap', 'log?']\n",
      "['29/11/17,', '11:35', '-', 'Priya', 'Singh', '-', 'CSE:', 'Nhi']\n",
      "['29/11/17,', '11:38', '-', 'Uddeshya', 'Singh:', '\\xf0\\x9f\\x98\\x92']\n",
      "['29/11/17,', '14:16', '-', 'Uddeshya', 'Singh:', 'Itna', 'pyaar', 'xD']\n",
      "['29/11/17,', '15:36', '-', 'Uddeshya', 'Singh:', 'Hey']\n",
      "['29/11/17,', '15:36', '-', 'Uddeshya', 'Singh:', 'Gussa', 'hai', 'kya?']\n",
      "['29/11/17,', '21:38', '-', 'Uddeshya', 'Singh:', 'Oyr']\n",
      "['29/11/17,', '21:38', '-', 'Uddeshya', 'Singh:', 'Oye']\n",
      "['29/11/17,', '21:38', '-', 'Uddeshya', 'Singh:', 'Oye']\n",
      "['29/11/17,', '21:38', '-', 'Uddeshya', 'Singh:', 'Oye']\n",
      "['29/11/17,', '21:38', '-', 'Uddeshya', 'Singh:', 'Oye']\n",
      "['29/11/17,', '21:38', '-', 'Uddeshya', 'Singh:', 'Oye']\n",
      "['29/11/17,', '21:38', '-', 'Uddeshya', 'Singh:', 'Oyeee']\n",
      "['29/11/17,', '21:38', '-', 'Uddeshya', 'Singh:', 'Oyeeeeeeeeee']\n",
      "['29/11/17,', '21:49', '-', 'Priya', 'Singh', '-', 'CSE:', 'Nhi']\n",
      "['29/11/17,', '21:50', '-', 'Priya', 'Singh', '-', 'CSE:', 'Kisliye', 'hongi', 'main', 'gussa']\n",
      "['29/11/17,', '21:50', '-', 'Priya', 'Singh', '-', 'CSE:', 'Gadha', 'Hai', 'tu']\n",
      "['29/11/17,', '21:50', '-', 'Uddeshya', 'Singh:', 'Tab', 'ek', 'baat', 'bata.']\n",
      "['29/11/17,', '21:50', '-', 'Priya', 'Singh', '-', 'CSE:', 'Bol']\n",
      "['29/11/17,', '21:50', '-', 'Uddeshya', 'Singh:', 'Messeges', 'ka', 'reply', 'q', 'ni', 'karti?']\n",
      "['29/11/17,', '21:50', '-', 'Priya', 'Singh', '-', 'CSE:', 'Are', 'aaj', 'main', 'WhatsApp', 'zyada', 'chalati', 'nhi', 'hu']\n",
      "['29/11/17,', '21:50', '-', 'Uddeshya', 'Singh:', 'Padhai?']\n",
      "['29/11/17,', '21:51', '-', 'Priya', 'Singh', '-', 'CSE:', 'Are', 'Mann', 'nhi', 'krta']\n",
      "['29/11/17,', '21:51', '-', 'Priya', 'Singh', '-', 'CSE:', 'Ha', 'padhai', 'ki', 'kri', 'thi', 'thodhi']\n",
      "['29/11/17,', '21:52', '-', 'Uddeshya', 'Singh:', 'Dagabaaz', 'aurat', '\\xf0\\x9f\\x92\\x94']\n",
      "['29/11/17,', '21:52', '-', 'Uddeshya', 'Singh:', '\\xf0\\x9f\\x98\\x82']\n",
      "['29/11/17,', '21:52', '-', 'Uddeshya', 'Singh:', 'Tum', 'log', 'kitne', 'baje', 'tak', 'sote', 'ho?']\n",
      "['29/11/17,', '21:52', '-', 'Priya', 'Singh', '-', 'CSE:', 'Nominies', 'on', 'whatsapp', 'AWARDS', '2017..', 'send', 'this', 'to', 'all', 'your', 'contacts,', 'including', 'me', 'and', 'see', 'what', 'awards', \"u'd\", 'get...', 'But', 'reply', 'me', 'first:']\n",
      "['so', 'what', 'award', 'do', 'I', 'deserve???']\n",
      "[]\n"
     ]
    },
    {
     "ename": "IndexError",
     "evalue": "list index out of range",
     "output_type": "error",
     "traceback": [
      "\u001b[0;31m---------------------------------------------------------------------------\u001b[0m",
      "\u001b[0;31mIndexError\u001b[0m                                Traceback (most recent call last)",
      "\u001b[0;32m<ipython-input-50-4191600d9fa7>\u001b[0m in \u001b[0;36m<module>\u001b[0;34m()\u001b[0m\n\u001b[1;32m      1\u001b[0m \u001b[0;32mfor\u001b[0m \u001b[0mi\u001b[0m \u001b[0;32min\u001b[0m \u001b[0mrange\u001b[0m\u001b[0;34m(\u001b[0m\u001b[0;36m1\u001b[0m\u001b[0;34m,\u001b[0m\u001b[0mlen\u001b[0m\u001b[0;34m(\u001b[0m\u001b[0mx\u001b[0m\u001b[0;34m)\u001b[0m\u001b[0;34m)\u001b[0m\u001b[0;34m:\u001b[0m\u001b[0;34m\u001b[0m\u001b[0m\n\u001b[1;32m      2\u001b[0m     \u001b[0;32mprint\u001b[0m \u001b[0mx\u001b[0m\u001b[0;34m[\u001b[0m\u001b[0mi\u001b[0m\u001b[0;34m]\u001b[0m\u001b[0;34m.\u001b[0m\u001b[0msplit\u001b[0m\u001b[0;34m(\u001b[0m\u001b[0;34m)\u001b[0m\u001b[0;34m\u001b[0m\u001b[0m\n\u001b[0;32m----> 3\u001b[0;31m     \u001b[0msplitter\u001b[0m\u001b[0;34m(\u001b[0m\u001b[0mx\u001b[0m\u001b[0;34m[\u001b[0m\u001b[0mi\u001b[0m\u001b[0;34m]\u001b[0m\u001b[0;34m.\u001b[0m\u001b[0msplit\u001b[0m\u001b[0;34m(\u001b[0m\u001b[0;34m)\u001b[0m\u001b[0;34m)\u001b[0m\u001b[0;34m\u001b[0m\u001b[0m\n\u001b[0m",
      "\u001b[0;32m<ipython-input-42-6caea54b9309>\u001b[0m in \u001b[0;36msplitter\u001b[0;34m(mess_array)\u001b[0m\n\u001b[1;32m      1\u001b[0m \u001b[0;32mdef\u001b[0m \u001b[0msplitter\u001b[0m\u001b[0;34m(\u001b[0m\u001b[0mmess_array\u001b[0m\u001b[0;34m)\u001b[0m\u001b[0;34m:\u001b[0m\u001b[0;34m\u001b[0m\u001b[0m\n\u001b[0;32m----> 2\u001b[0;31m     \u001b[0mdate\u001b[0m\u001b[0;34m.\u001b[0m\u001b[0mappend\u001b[0m\u001b[0;34m(\u001b[0m\u001b[0mmess_array\u001b[0m\u001b[0;34m[\u001b[0m\u001b[0;36m0\u001b[0m\u001b[0;34m]\u001b[0m\u001b[0;34m)\u001b[0m\u001b[0;34m\u001b[0m\u001b[0m\n\u001b[0m\u001b[1;32m      3\u001b[0m     \u001b[0;32mif\u001b[0m \u001b[0mmess_array\u001b[0m\u001b[0;34m[\u001b[0m\u001b[0;36m3\u001b[0m\u001b[0;34m]\u001b[0m\u001b[0;34m.\u001b[0m\u001b[0mlower\u001b[0m\u001b[0;34m(\u001b[0m\u001b[0;34m)\u001b[0m\u001b[0;34m==\u001b[0m\u001b[0;34m'priya'\u001b[0m\u001b[0;34m:\u001b[0m\u001b[0;34m\u001b[0m\u001b[0m\n\u001b[1;32m      4\u001b[0m         \u001b[0msender\u001b[0m\u001b[0;34m.\u001b[0m\u001b[0mappend\u001b[0m\u001b[0;34m(\u001b[0m\u001b[0;36m0\u001b[0m\u001b[0;34m)\u001b[0m\u001b[0;34m\u001b[0m\u001b[0m\n\u001b[1;32m      5\u001b[0m         \u001b[0maux_str\u001b[0m\u001b[0;34m=\u001b[0m\u001b[0;34m\"\"\u001b[0m\u001b[0;34m\u001b[0m\u001b[0m\n",
      "\u001b[0;31mIndexError\u001b[0m: list index out of range"
     ]
    }
   ],
   "source": [
    "for i in range(1,len(x)):\n",
    "    print x[i].split()\n",
    "    splitter(x[i].split())"
   ]
  },
  {
   "cell_type": "code",
   "execution_count": 52,
   "metadata": {},
   "outputs": [
    {
     "name": "stdout",
     "output_type": "stream",
     "text": [
      "232\n"
     ]
    }
   ],
   "source": [
    "print len(messeges)"
   ]
  },
  {
   "cell_type": "code",
   "execution_count": 53,
   "metadata": {},
   "outputs": [
    {
     "data": {
      "text/plain": [
       "232"
      ]
     },
     "execution_count": 53,
     "metadata": {},
     "output_type": "execute_result"
    }
   ],
   "source": [
    "len(sender)"
   ]
  },
  {
   "cell_type": "code",
   "execution_count": 54,
   "metadata": {},
   "outputs": [
    {
     "data": {
      "text/plain": [
       "232"
      ]
     },
     "execution_count": 54,
     "metadata": {},
     "output_type": "execute_result"
    }
   ],
   "source": [
    "len(date)"
   ]
  },
  {
   "cell_type": "code",
   "execution_count": 107,
   "metadata": {},
   "outputs": [],
   "source": [
    "mess_series=pd.Series(v for v in messeges)"
   ]
  },
  {
   "cell_type": "code",
   "execution_count": 108,
   "metadata": {},
   "outputs": [],
   "source": [
    "sender_series=pd.Series(i for i in sender)"
   ]
  },
  {
   "cell_type": "code",
   "execution_count": 109,
   "metadata": {},
   "outputs": [],
   "source": [
    "date_series=pd.Series(k for k in date)"
   ]
  },
  {
   "cell_type": "code",
   "execution_count": 110,
   "metadata": {},
   "outputs": [],
   "source": [
    "df_raw=pd.concat([mess_series,sender_series,date_series],axis=1)"
   ]
  },
  {
   "cell_type": "code",
   "execution_count": 111,
   "metadata": {
    "scrolled": true
   },
   "outputs": [
    {
     "data": {
      "text/html": [
       "<div>\n",
       "<style scoped>\n",
       "    .dataframe tbody tr th:only-of-type {\n",
       "        vertical-align: middle;\n",
       "    }\n",
       "\n",
       "    .dataframe tbody tr th {\n",
       "        vertical-align: top;\n",
       "    }\n",
       "\n",
       "    .dataframe thead th {\n",
       "        text-align: right;\n",
       "    }\n",
       "</style>\n",
       "<table border=\"1\" class=\"dataframe\">\n",
       "  <thead>\n",
       "    <tr style=\"text-align: right;\">\n",
       "      <th></th>\n",
       "      <th>0</th>\n",
       "      <th>1</th>\n",
       "      <th>2</th>\n",
       "    </tr>\n",
       "  </thead>\n",
       "  <tbody>\n",
       "    <tr>\n",
       "      <th>0</th>\n",
       "      <td>Gadhi</td>\n",
       "      <td>1</td>\n",
       "      <td>19/11/17,</td>\n",
       "    </tr>\n",
       "    <tr>\n",
       "      <th>1</th>\n",
       "      <td>Script type kar sakti hai?</td>\n",
       "      <td>1</td>\n",
       "      <td>19/11/17,</td>\n",
       "    </tr>\n",
       "    <tr>\n",
       "      <th>2</th>\n",
       "      <td>Abhi imp kaam hai. Messege ka reply de sakti h...</td>\n",
       "      <td>1</td>\n",
       "      <td>19/11/17,</td>\n",
       "    </tr>\n",
       "    <tr>\n",
       "      <th>3</th>\n",
       "      <td>Oye</td>\n",
       "      <td>1</td>\n",
       "      <td>20/11/17,</td>\n",
       "    </tr>\n",
       "    <tr>\n",
       "      <th>4</th>\n",
       "      <td>Form submit kara?</td>\n",
       "      <td>1</td>\n",
       "      <td>20/11/17,</td>\n",
       "    </tr>\n",
       "  </tbody>\n",
       "</table>\n",
       "</div>"
      ],
      "text/plain": [
       "                                                   0  1          2\n",
       "0                                              Gadhi  1  19/11/17,\n",
       "1                         Script type kar sakti hai?  1  19/11/17,\n",
       "2  Abhi imp kaam hai. Messege ka reply de sakti h...  1  19/11/17,\n",
       "3                                                Oye  1  20/11/17,\n",
       "4                                  Form submit kara?  1  20/11/17,"
      ]
     },
     "execution_count": 111,
     "metadata": {},
     "output_type": "execute_result"
    }
   ],
   "source": [
    "df_raw.head()\n"
   ]
  },
  {
   "cell_type": "code",
   "execution_count": 112,
   "metadata": {},
   "outputs": [],
   "source": [
    "df_raw.columns=['Messages','Sender','Date']"
   ]
  },
  {
   "cell_type": "code",
   "execution_count": 113,
   "metadata": {},
   "outputs": [
    {
     "data": {
      "text/html": [
       "<div>\n",
       "<style scoped>\n",
       "    .dataframe tbody tr th:only-of-type {\n",
       "        vertical-align: middle;\n",
       "    }\n",
       "\n",
       "    .dataframe tbody tr th {\n",
       "        vertical-align: top;\n",
       "    }\n",
       "\n",
       "    .dataframe thead th {\n",
       "        text-align: right;\n",
       "    }\n",
       "</style>\n",
       "<table border=\"1\" class=\"dataframe\">\n",
       "  <thead>\n",
       "    <tr style=\"text-align: right;\">\n",
       "      <th></th>\n",
       "      <th>Messages</th>\n",
       "      <th>Sender</th>\n",
       "      <th>Date</th>\n",
       "    </tr>\n",
       "  </thead>\n",
       "  <tbody>\n",
       "    <tr>\n",
       "      <th>0</th>\n",
       "      <td>Gadhi</td>\n",
       "      <td>1</td>\n",
       "      <td>19/11/17,</td>\n",
       "    </tr>\n",
       "    <tr>\n",
       "      <th>1</th>\n",
       "      <td>Script type kar sakti hai?</td>\n",
       "      <td>1</td>\n",
       "      <td>19/11/17,</td>\n",
       "    </tr>\n",
       "    <tr>\n",
       "      <th>2</th>\n",
       "      <td>Abhi imp kaam hai. Messege ka reply de sakti h...</td>\n",
       "      <td>1</td>\n",
       "      <td>19/11/17,</td>\n",
       "    </tr>\n",
       "    <tr>\n",
       "      <th>3</th>\n",
       "      <td>Oye</td>\n",
       "      <td>1</td>\n",
       "      <td>20/11/17,</td>\n",
       "    </tr>\n",
       "    <tr>\n",
       "      <th>4</th>\n",
       "      <td>Form submit kara?</td>\n",
       "      <td>1</td>\n",
       "      <td>20/11/17,</td>\n",
       "    </tr>\n",
       "  </tbody>\n",
       "</table>\n",
       "</div>"
      ],
      "text/plain": [
       "                                            Messages  Sender       Date\n",
       "0                                              Gadhi       1  19/11/17,\n",
       "1                         Script type kar sakti hai?       1  19/11/17,\n",
       "2  Abhi imp kaam hai. Messege ka reply de sakti h...       1  19/11/17,\n",
       "3                                                Oye       1  20/11/17,\n",
       "4                                  Form submit kara?       1  20/11/17,"
      ]
     },
     "execution_count": 113,
     "metadata": {},
     "output_type": "execute_result"
    }
   ],
   "source": [
    "df_raw.head()"
   ]
  },
  {
   "cell_type": "code",
   "execution_count": 117,
   "metadata": {},
   "outputs": [],
   "source": [
    "def clean_date(raw_stuff):\n",
    "    main=raw_stuff.split(',')[0]\n",
    "    print main\n",
    "    return int(main.split('/')[0])\n",
    "    \n",
    "def clean_month(raw_stuff):\n",
    "    main=raw_stuff.split(',')[0]\n",
    "    print main\n",
    "    return int(main.split('/')[1])\n",
    "\n",
    "def clean_year(raw_stuff):\n",
    "    main=raw_stuff.split(',')[0]\n",
    "    print main\n",
    "    return int('20'+main.split('/')[2])\n",
    "    \n",
    "    "
   ]
  },
  {
   "cell_type": "code",
   "execution_count": 89,
   "metadata": {},
   "outputs": [
    {
     "data": {
      "text/plain": [
       "str"
      ]
     },
     "execution_count": 89,
     "metadata": {},
     "output_type": "execute_result"
    }
   ],
   "source": [
    "type(df_raw['Date'][0])"
   ]
  },
  {
   "cell_type": "code",
   "execution_count": null,
   "metadata": {},
   "outputs": [],
   "source": [
    "print "
   ]
  },
  {
   "cell_type": "code",
   "execution_count": 102,
   "metadata": {},
   "outputs": [
    {
     "name": "stdout",
     "output_type": "stream",
     "text": [
      "19/11/17\n"
     ]
    }
   ],
   "source": [
    "x,y,z=clean_date(df_raw['Date'][0])"
   ]
  },
  {
   "cell_type": "code",
   "execution_count": 98,
   "metadata": {},
   "outputs": [
    {
     "data": {
      "text/plain": [
       "str"
      ]
     },
     "execution_count": 98,
     "metadata": {},
     "output_type": "execute_result"
    }
   ],
   "source": [
    "type(x)"
   ]
  },
  {
   "cell_type": "code",
   "execution_count": null,
   "metadata": {},
   "outputs": [],
   "source": []
  },
  {
   "cell_type": "code",
   "execution_count": 121,
   "metadata": {},
   "outputs": [],
   "source": [
    "df_raw['Length']=df_raw['Messages'].apply(len)"
   ]
  },
  {
   "cell_type": "code",
   "execution_count": 122,
   "metadata": {},
   "outputs": [
    {
     "data": {
      "text/html": [
       "<div>\n",
       "<style scoped>\n",
       "    .dataframe tbody tr th:only-of-type {\n",
       "        vertical-align: middle;\n",
       "    }\n",
       "\n",
       "    .dataframe tbody tr th {\n",
       "        vertical-align: top;\n",
       "    }\n",
       "\n",
       "    .dataframe thead th {\n",
       "        text-align: right;\n",
       "    }\n",
       "</style>\n",
       "<table border=\"1\" class=\"dataframe\">\n",
       "  <thead>\n",
       "    <tr style=\"text-align: right;\">\n",
       "      <th></th>\n",
       "      <th>Messages</th>\n",
       "      <th>Sender</th>\n",
       "      <th>Date</th>\n",
       "      <th>date</th>\n",
       "      <th>Length</th>\n",
       "    </tr>\n",
       "  </thead>\n",
       "  <tbody>\n",
       "    <tr>\n",
       "      <th>0</th>\n",
       "      <td>Gadhi</td>\n",
       "      <td>1</td>\n",
       "      <td>19/11/17,</td>\n",
       "      <td>19</td>\n",
       "      <td>5</td>\n",
       "    </tr>\n",
       "    <tr>\n",
       "      <th>1</th>\n",
       "      <td>Script type kar sakti hai?</td>\n",
       "      <td>1</td>\n",
       "      <td>19/11/17,</td>\n",
       "      <td>19</td>\n",
       "      <td>26</td>\n",
       "    </tr>\n",
       "    <tr>\n",
       "      <th>2</th>\n",
       "      <td>Abhi imp kaam hai. Messege ka reply de sakti h...</td>\n",
       "      <td>1</td>\n",
       "      <td>19/11/17,</td>\n",
       "      <td>19</td>\n",
       "      <td>51</td>\n",
       "    </tr>\n",
       "    <tr>\n",
       "      <th>3</th>\n",
       "      <td>Oye</td>\n",
       "      <td>1</td>\n",
       "      <td>20/11/17,</td>\n",
       "      <td>20</td>\n",
       "      <td>3</td>\n",
       "    </tr>\n",
       "    <tr>\n",
       "      <th>4</th>\n",
       "      <td>Form submit kara?</td>\n",
       "      <td>1</td>\n",
       "      <td>20/11/17,</td>\n",
       "      <td>20</td>\n",
       "      <td>17</td>\n",
       "    </tr>\n",
       "  </tbody>\n",
       "</table>\n",
       "</div>"
      ],
      "text/plain": [
       "                                            Messages  Sender       Date date  \\\n",
       "0                                              Gadhi       1  19/11/17,   19   \n",
       "1                         Script type kar sakti hai?       1  19/11/17,   19   \n",
       "2  Abhi imp kaam hai. Messege ka reply de sakti h...       1  19/11/17,   19   \n",
       "3                                                Oye       1  20/11/17,   20   \n",
       "4                                  Form submit kara?       1  20/11/17,   20   \n",
       "\n",
       "   Length  \n",
       "0       5  \n",
       "1      26  \n",
       "2      51  \n",
       "3       3  \n",
       "4      17  "
      ]
     },
     "execution_count": 122,
     "metadata": {},
     "output_type": "execute_result"
    }
   ],
   "source": [
    "df_raw.head()"
   ]
  },
  {
   "cell_type": "code",
   "execution_count": 130,
   "metadata": {},
   "outputs": [
    {
     "data": {
      "text/plain": [
       "array([<matplotlib.axes._subplots.AxesSubplot object at 0x7f0396af2250>,\n",
       "       <matplotlib.axes._subplots.AxesSubplot object at 0x7f0396911750>], dtype=object)"
      ]
     },
     "execution_count": 130,
     "metadata": {},
     "output_type": "execute_result"
    },
    {
     "data": {
      "image/png": "[encoded data removed]",
      "text/plain": [
       "<matplotlib.figure.Figure at 0x7f03969db9d0>"
      ]
     },
     "metadata": {},
     "output_type": "display_data"
    }
   ],
   "source": [
    "df_raw.hist(column='Length',by='Sender',bins=50)"
   ]
  },
  {
   "cell_type": "code",
   "execution_count": 132,
   "metadata": {},
   "outputs": [],
   "source": [
    "df_raw.drop(['Date','date'],axis=1,inplace=True)"
   ]
  },
  {
   "cell_type": "code",
   "execution_count": 136,
   "metadata": {},
   "outputs": [
    {
     "data": {
      "text/html": [
       "<div>\n",
       "<style scoped>\n",
       "    .dataframe tbody tr th:only-of-type {\n",
       "        vertical-align: middle;\n",
       "    }\n",
       "\n",
       "    .dataframe tbody tr th {\n",
       "        vertical-align: top;\n",
       "    }\n",
       "\n",
       "    .dataframe thead th {\n",
       "        text-align: right;\n",
       "    }\n",
       "</style>\n",
       "<table border=\"1\" class=\"dataframe\">\n",
       "  <thead>\n",
       "    <tr style=\"text-align: right;\">\n",
       "      <th></th>\n",
       "      <th>Messages</th>\n",
       "      <th>Sender</th>\n",
       "      <th>Length</th>\n",
       "    </tr>\n",
       "  </thead>\n",
       "  <tbody>\n",
       "    <tr>\n",
       "      <th>0</th>\n",
       "      <td>Gadhi</td>\n",
       "      <td>1</td>\n",
       "      <td>5</td>\n",
       "    </tr>\n",
       "    <tr>\n",
       "      <th>1</th>\n",
       "      <td>Script type kar sakti hai?</td>\n",
       "      <td>1</td>\n",
       "      <td>26</td>\n",
       "    </tr>\n",
       "    <tr>\n",
       "      <th>2</th>\n",
       "      <td>Abhi imp kaam hai. Messege ka reply de sakti h...</td>\n",
       "      <td>1</td>\n",
       "      <td>51</td>\n",
       "    </tr>\n",
       "    <tr>\n",
       "      <th>3</th>\n",
       "      <td>Oye</td>\n",
       "      <td>1</td>\n",
       "      <td>3</td>\n",
       "    </tr>\n",
       "    <tr>\n",
       "      <th>4</th>\n",
       "      <td>Form submit kara?</td>\n",
       "      <td>1</td>\n",
       "      <td>17</td>\n",
       "    </tr>\n",
       "  </tbody>\n",
       "</table>\n",
       "</div>"
      ],
      "text/plain": [
       "                                            Messages  Sender  Length\n",
       "0                                              Gadhi       1       5\n",
       "1                         Script type kar sakti hai?       1      26\n",
       "2  Abhi imp kaam hai. Messege ka reply de sakti h...       1      51\n",
       "3                                                Oye       1       3\n",
       "4                                  Form submit kara?       1      17"
      ]
     },
     "execution_count": 136,
     "metadata": {},
     "output_type": "execute_result"
    }
   ],
   "source": [
    "df_raw.head()"
   ]
  },
  {
   "cell_type": "code",
   "execution_count": 141,
   "metadata": {},
   "outputs": [],
   "source": [
    "from nltk.corpus import stopwords\n",
    "import string\n",
    "\n",
    "def text_process(mess):\n",
    "    \"\"\"\n",
    "    Takes in a string of text, then performs the following:\n",
    "    1. Remove all punctuation\n",
    "    2. Remove all stopwords\n",
    "    3. Returns a list of the cleaned text\n",
    "    \"\"\"\n",
    "    # Check characters to see if they are in punctuation\n",
    "    nopunc = [char for char in mess if char not in string.punctuation]\n",
    "\n",
    "    # Join the characters again to form the string.\n",
    "    nopunc = ''.join(nopunc)\n",
    "    \n",
    "    # Now just remove any stopwords\n",
    "    return [word for word in nopunc.split() if word.lower() not in stopwords.words('english')]\n",
    "\n",
    "from sklearn.feature_extraction.text import CountVectorizer\n",
    "from sklearn.feature_extraction.text import TfidfTransformer\n",
    "from sklearn.naive_bayes import MultinomialNB\n"
   ]
  },
  {
   "cell_type": "code",
   "execution_count": 142,
   "metadata": {},
   "outputs": [],
   "source": [
    "from sklearn.pipeline import Pipeline\n"
   ]
  },
  {
   "cell_type": "code",
   "execution_count": 143,
   "metadata": {},
   "outputs": [],
   "source": [
    "pipeline = Pipeline([\n",
    "    ('bow', CountVectorizer(analyzer=text_process)),  # strings to token integer counts\n",
    "    ('tfidf', TfidfTransformer()),  # integer counts to weighted TF-IDF scores\n",
    "    ('classifier', MultinomialNB()),  # train on TF-IDF vectors w/ Naive Bayes classifier\n",
    "])"
   ]
  },
  {
   "cell_type": "code",
   "execution_count": 144,
   "metadata": {},
   "outputs": [],
   "source": [
    "from sklearn.model_selection import train_test_split\n",
    "\n",
    "msg_train, msg_test, label_train, label_test =train_test_split(df_raw['Messages'],df_raw['Sender'], test_size=0.2)"
   ]
  },
  {
   "cell_type": "code",
   "execution_count": 145,
   "metadata": {},
   "outputs": [
    {
     "name": "stderr",
     "output_type": "stream",
     "text": [
      "/usr/local/lib/python2.7/dist-packages/ipykernel_launcher.py:18: UnicodeWarning: Unicode equal comparison failed to convert both arguments to Unicode - interpreting them as being unequal\n"
     ]
    },
    {
     "data": {
      "text/plain": [
       "Pipeline(memory=None,\n",
       "     steps=[('bow', CountVectorizer(analyzer=<function text_process at 0x7f036b405d70>,\n",
       "        binary=False, decode_error=u'strict', dtype=<type 'numpy.int64'>,\n",
       "        encoding=u'utf-8', input=u'content', lowercase=True, max_df=1.0,\n",
       "        max_features=None, min_df=1, ngram_range=(1, 1), preprocessor=...         use_idf=True)), ('classifier', MultinomialNB(alpha=1.0, class_prior=None, fit_prior=True))])"
      ]
     },
     "execution_count": 145,
     "metadata": {},
     "output_type": "execute_result"
    }
   ],
   "source": [
    "pipeline.fit(msg_train,label_train)"
   ]
  },
  {
   "cell_type": "code",
   "execution_count": 147,
   "metadata": {},
   "outputs": [],
   "source": [
    "from sklearn.metrics import classification_report"
   ]
  },
  {
   "cell_type": "code",
   "execution_count": 148,
   "metadata": {},
   "outputs": [
    {
     "name": "stderr",
     "output_type": "stream",
     "text": [
      "/usr/local/lib/python2.7/dist-packages/ipykernel_launcher.py:18: UnicodeWarning: Unicode equal comparison failed to convert both arguments to Unicode - interpreting them as being unequal\n"
     ]
    }
   ],
   "source": [
    "pred=pipeline.predict(msg_test)"
   ]
  },
  {
   "cell_type": "code",
   "execution_count": 149,
   "metadata": {},
   "outputs": [
    {
     "name": "stdout",
     "output_type": "stream",
     "text": [
      "             precision    recall  f1-score   support\n",
      "\n",
      "          0       0.23      1.00      0.38         3\n",
      "          1       1.00      0.77      0.87        44\n",
      "\n",
      "avg / total       0.95      0.79      0.84        47\n",
      "\n"
     ]
    }
   ],
   "source": [
    "print classification_report(pred,label_test)"
   ]
  },
  {
   "cell_type": "code",
   "execution_count": null,
   "metadata": {},
   "outputs": [],
   "source": []
  }
 ],
 "metadata": {
  "kernelspec": {
   "display_name": "Python 2",
   "language": "python",
   "name": "python2"
  },
  "language_info": {
   "codemirror_mode": {
    "name": "ipython",
    "version": 2
   },
   "file_extension": ".py",
   "mimetype": "text/x-python",
   "name": "python",
   "nbconvert_exporter": "python",
   "pygments_lexer": "ipython2",
   "version": "2.7.12"
  }
 },
 "nbformat": 4,
 "nbformat_minor": 2
}
