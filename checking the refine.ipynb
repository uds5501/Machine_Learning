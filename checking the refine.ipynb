{
 "cells": [
  {
   "cell_type": "code",
   "execution_count": 1,
   "metadata": {},
   "outputs": [],
   "source": [
    "text=open('WhatsApp Chat with Siddarth-IT.txt','r')"
   ]
  },
  {
   "cell_type": "code",
   "execution_count": 2,
   "metadata": {},
   "outputs": [],
   "source": [
    "aux=[line for line in text]"
   ]
  },
  {
   "cell_type": "code",
   "execution_count": 3,
   "metadata": {},
   "outputs": [
    {
     "name": "stdout",
     "output_type": "stream",
     "text": [
      "['14/09/17, 00:21 - Messages to this chat and calls are now secured with end-to-end encryption. Tap for more info.\\n', '14/09/17, 00:21 - Uddeshya Singh: <Media omitted>\\n', '14/09/17, 01:08 - Uddeshya Singh: <Media omitted>\\n', '14/09/17, 01:08 - Uddeshya Singh: <Media omitted>\\n', '14/09/17, 01:08 - Uddeshya Singh: <Media omitted>\\n', '14/09/17, 01:08 - Uddeshya Singh: <Media omitted>\\n', '14/09/17, 01:08 - Uddeshya Singh: <Media omitted>\\n', '14/09/17, 01:08 - Uddeshya Singh: Bhutia pics\\n', '14/09/17, 01:08 - Uddeshya Singh: \\xf0\\x9f\\x98\\x82\\n', '08/10/17, 15:29 - Uddeshya Singh: Bc\\n', '08/10/17, 15:29 - Uddeshya Singh: Kaha hai~\\n', '08/10/17, 15:29 - Uddeshya Singh: Fifa?\\n', '08/10/17, 15:29 - Siddarth-IT: Shivam aya\\n', '08/10/17, 15:29 - Uddeshya Singh: Abhi to nahi\\n', '08/10/17, 15:29 - Uddeshya Singh: Tu haia kaha?\\n', '08/10/17, 15:30 - Siddarth-IT: Shubham ke room me\\n', '08/10/17, 15:30 - Siddarth-IT: 66\\n', '08/10/17, 15:30 - Uddeshya Singh: Ok\\n', '08/10/17, 15:30 - Uddeshya Singh: Khelna hai?\\n', '08/10/17, 15:30 - Siddarth-IT: Ha\\n', '08/10/17, 15:30 - Uddeshya Singh: Kitni der me?\\n', '08/10/17, 15:30 - Siddarth-IT: 1 ghante\\n', '08/10/17, 15:30 - Uddeshya Singh: Ok\\n', '08/10/17, 15:30 - Siddarth-IT: Shivam ko bula le\\n', '08/10/17, 15:30 - Siddarth-IT: Phir\\n', '08/10/17, 16:43 - Siddarth-IT: Missed voice call\\n', '18/10/17, 20:41 - Siddarth-IT: <Media omitted>\\n', '18/10/17, 22:29 - Uddeshya Singh: Same to u bruh\\n', '18/10/17, 22:29 - Uddeshya Singh: Cute hai ye laxmi maata xD\\n', '20/10/17, 21:42 - Siddarth-IT: \\xf0\\x9f\\x98\\xb1\\xf0\\x9f\\x98\\xb1\\xf0\\x9f\\x98\\xb1\\xf0\\x9f\\x98\\xb1\\xf0\\x9f\\x98\\xb1\\n', '20/10/17, 21:42 - Uddeshya Singh: \\xf0\\x9f\\x98\\x82\\xf0\\x9f\\x98\\x82\\xf0\\x9f\\x98\\x82As u have replied to my story complete your dare without mentioning my name \\n', '1. finally in a relationship \\n', '2. Deleting my Whatsapp account \\n', '3. Leaving india forever \\n', '4. Brokeup with my bf/gf.\\n', '5.getting married \\n', \"6. I'm going to make suicide attempt \\n\", '\\n', 'Now I will tell you which one you will have to put your story \\xf0\\x9f\\x98\\x82\\xf0\\x9f\\x98\\x82make everyone fool\\n', '20/10/17, 21:42 - Uddeshya Singh: Murga phasa\\xf0\\x9f\\x98\\x82\\n', '20/10/17, 21:42 - Uddeshya Singh: Beta\\n', '20/10/17, 21:42 - Uddeshya Singh: Tum 1 daalo\\n', '20/10/17, 21:46 - Uddeshya Singh: OYR\\n', '20/10/17, 21:46 - Uddeshya Singh: Oye\\n', '20/10/17, 21:46 - Uddeshya Singh: DAAL\\n', '20/10/17, 21:47 - Uddeshya Singh: And jab koi reply kare. Tab use forward kario\\n', '20/10/17, 21:47 - Siddarth-IT: Bhaak\\n', '20/10/17, 21:47 - Uddeshya Singh: Bsdk\\n', '20/10/17, 21:47 - Siddarth-IT: Maar dogey\\n', '20/10/17, 21:47 - Uddeshya Singh: Bhai\\n', '20/10/17, 21:47 - Uddeshya Singh: Kar ab\\n', '20/10/17, 21:47 - Siddarth-IT: Family\\n', '20/10/17, 21:47 - Uddeshya Singh: -_-\\n', '20/10/17, 21:48 - Uddeshya Singh: Bata dio joke tha\\n', '20/10/17, 21:48 - Siddarth-IT: Ha ha\\n', '20/10/17, 21:48 - Uddeshya Singh: Srslu\\n', '20/10/17, 21:48 - Uddeshya Singh: Phattu\\n', '20/10/17, 21:48 - Siddarth-IT: Sale complicated hai\\n', '20/10/17, 21:48 - Siddarth-IT: Abhi daal diya to gaya\\n', '20/10/17, 21:49 - Uddeshya Singh: Abe\\n', '20/10/17, 21:49 - Uddeshya Singh: Aisa kya hogya?\\n', '20/10/17, 21:49 - Siddarth-IT: Tu bas ghuiya chil\\n', '20/10/17, 21:49 - Siddarth-IT: And of course try to be a virgin\\n', '20/10/17, 21:51 - Uddeshya Singh: \\xf0\\x9f\\x98\\x82\\xf0\\x9f\\x98\\x82\\xf0\\x9f\\x98\\x82\\n', '21/10/17, 21:34 - Siddarth-IT: Bhaaaak\\n', '21/10/17, 21:35 - Siddarth-IT: Abki baar nahi\\n', '21/10/17, 21:39 - Uddeshya Singh: United lost 2-1\\n', '21/10/17, 21:40 - Siddarth-IT: \\xf0\\x9f\\xa4\\x98\\xf0\\x9f\\xa4\\x98\\xf0\\x9f\\xa4\\x98\\xf0\\x9f\\xa4\\xa3\\xf0\\x9f\\xa4\\xa3\\n', '21/10/17, 21:51 - Uddeshya Singh: \\xf0\\x9f\\x98\\x92\\xf0\\x9f\\x98\\x92\\n', '21/10/17, 21:51 - Uddeshya Singh: Fuck off\\n', '21/10/17, 23:03 - Siddarth-IT: \\xf0\\x9f\\xa4\\x98\\xf0\\x9f\\x96\\x95\\n', '23/10/17, 18:07 - Uddeshya Singh: Oye\\n', '23/10/17, 18:07 - Uddeshya Singh: Kab aaraha hai~\\n', '23/10/17, 18:07 - Uddeshya Singh: Hostel me?\\n', '23/10/17, 18:54 - Siddarth-IT: Aaj\\n', '23/10/17, 18:54 - Siddarth-IT: 8:30 tak\\n', '23/10/17, 19:19 - Uddeshya Singh: Ok\\n', '23/10/17, 19:19 - Siddarth-IT: Kyu privacy chahiye kya\\n', '23/10/17, 19:19 - Siddarth-IT: \\xf0\\x9f\\x98\\x82\\xf0\\x9f\\x98\\x82\\n', '23/10/17, 19:24 - Uddeshya Singh: Tumhare bed pe kaam kar bhi liya\\xf0\\x9f\\x98\\x82\\xf0\\x9f\\x98\\x82\\xf0\\x9f\\x98\\x9c\\n', '23/10/17, 19:24 - Siddarth-IT: Saale pitega\\n', '23/10/17, 19:24 - Uddeshya Singh: \\xf0\\x9f\\xa4\\xa3\\xf0\\x9f\\xa4\\xa3\\xf0\\x9f\\xa4\\xa3\\n', '23/10/17, 19:24 - Siddarth-IT: Mai waise bhi dossri dari la rha\\n', '23/10/17, 19:24 - Uddeshya Singh: Damn it\\xf0\\x9f\\x98\\x82\\n', '23/10/17, 19:24 - Siddarth-IT: \\xf0\\x9f\\xa4\\x98\\n', '23/10/17, 19:24 - Siddarth-IT: \\xf0\\x9f\\x98\\x9c\\n', '23/10/17, 20:33 - Uddeshya Singh: Kaha hai be?\\n', '23/10/17, 20:34 - Siddarth-IT: Thoda aur ruk ja\\n', '24/10/17, 23:13 - Siddarth-IT: Bahar se band kr le\\n', '24/10/17, 23:13 - Siddarth-IT: Uddeshya\\n', '24/10/17, 23:13 - Uddeshya Singh: Soja\\n', '24/10/17, 23:13 - Uddeshya Singh: Mai band kar dunga\\n', '24/10/17, 23:14 - Siddarth-IT: Arey gate abhi ander se band hai\\n', '24/10/17, 23:14 - Siddarth-IT: Aaja na yaar\\n', '24/10/17, 23:14 - Uddeshya Singh: Bhai. Khol de\\n', '24/10/17, 23:14 - Uddeshya Singh: Aur so ja\\n', '24/10/17, 23:14 - Uddeshya Singh: Baaki chill kar\\n', '24/10/17, 23:16 - Siddarth-IT: Bahar se taala maar duya\\n', '24/10/17, 23:16 - Siddarth-IT: Diya\\n', '24/10/17, 23:16 - Siddarth-IT: \\xf0\\x9f\\x98\\x9b\\xf0\\x9f\\xa4\\x98\\n', '24/10/17, 23:21 - Uddeshya Singh: Hmm. Great\\n', '28/10/17, 00:53 - Uddeshya Singh: Going to sleep\\n', '28/10/17, 00:53 - Uddeshya Singh: Darwaaza khula hi hai\\n', '22/11/17, 10:49 - Siddarth-IT: Hua\\n', '22/11/17, 10:54 - Uddeshya Singh: Not yet\\n', '22/11/17, 11:12 - Siddarth-IT: Thoda jaldi kr\\n', '22/11/17, 11:23 - Uddeshya Singh: <Media omitted>\\n', '22/11/17, 11:23 - Uddeshya Singh: <Media omitted>\\n', '22/11/17, 11:23 - Siddarth-IT: Saari bhej de\\n', '22/11/17, 11:23 - Uddeshya Singh: <Media omitted>\\n', '22/11/17, 11:23 - Siddarth-IT: Jyada nahi hongi\\n', '22/11/17, 11:23 - Siddarth-IT: Saare pages\\n', '22/11/17, 11:23 - Uddeshya Singh: <Media omitted>\\n', '22/11/17, 11:24 - Uddeshya Singh: <Media omitted>\\n', '22/11/17, 11:24 - Uddeshya Singh: <Media omitted>\\n', '22/11/17, 11:24 - Uddeshya Singh: <Media omitted>\\n', '22/11/17, 11:24 - Uddeshya Singh: <Media omitted>\\n', '22/11/17, 11:24 - Uddeshya Singh: <Media omitted>\\n', '22/11/17, 11:24 - Uddeshya Singh: <Media omitted>\\n', '22/11/17, 11:24 - Uddeshya Singh: <Media omitted>\\n', '22/11/17, 11:25 - Uddeshya Singh: <Media omitted>\\n', '22/11/17, 11:25 - Uddeshya Singh: <Media omitted>\\n', '22/11/17, 11:25 - Uddeshya Singh: <Media omitted>\\n', '22/11/17, 11:25 - Uddeshya Singh: <Media omitted>\\n', '22/11/17, 11:25 - Uddeshya Singh: Done\\n', '22/11/17, 11:25 - Siddarth-IT: Last page ki photo clear nahi aayi\\n', '22/11/17, 16:15 - Uddeshya Singh: <Media omitted>\\n', '22/11/17, 16:15 - Uddeshya Singh: <Media omitted>\\n', '22/11/17, 16:15 - Siddarth-IT: Thanks\\n', '22/11/17, 16:16 - Siddarth-IT: Nutella on u\\n', '22/11/17, 16:16 - Uddeshya Singh: \\xf0\\x9f\\xa4\\xa3\\xf0\\x9f\\xa4\\xa3\\n', '22/11/17, 16:16 - Uddeshya Singh: Dabba leke aana\\n', '22/11/17, 16:16 - Siddarth-IT: Khali\\n', '22/11/17, 16:16 - Siddarth-IT: ??\\n', '22/11/17, 16:16 - Uddeshya Singh: Bete\\n', '22/11/17, 16:16 - Uddeshya Singh: Khaali aaya to kamre ke bahar darwaaza khatkhatate rehna\\n', '22/11/17, 16:16 - Uddeshya Singh: \\xf0\\x9f\\x98\\x8f\\n', '22/11/17, 16:37 - Siddarth-IT: Badhiya\\n', '23/11/17, 12:14 - Uddeshya Singh: https://youtu.be/BO_4Y3StyvY\\n', '23/11/17, 12:14 - Uddeshya Singh: My tutorial on how to install wireshark, network analyser tool\\n', '23/11/17, 12:14 - Uddeshya Singh: In ubuntu\\n', '23/11/17, 12:14 - Uddeshya Singh: Please watch it, like share and subscribe!\\n', '23/11/17, 12:14 - Uddeshya Singh: *my follow on in how to install wireshark\\n', '23/11/17, 12:26 - Siddarth-IT: Oyyee\\n', '23/11/17, 12:26 - Uddeshya Singh: Yep?\\n', '23/11/17, 12:26 - Siddarth-IT: Ye video me jo song add kiye ho\\n', '23/11/17, 12:26 - Siddarth-IT: Wo kaha se\\n', '23/11/17, 12:27 - Uddeshya Singh: NCS\\n', '23/11/17, 12:27 - Siddarth-IT: Arey ha\\n', '23/11/17, 12:27 - Siddarth-IT: \\xf0\\x9f\\xa4\\x98\\n', '26/11/17, 19:48 - Uddeshya Singh: <Media omitted>\\n', '26/11/17, 19:48 - Uddeshya Singh: <Media omitted>\\n', '26/11/17, 19:48 - Uddeshya Singh: <Media omitted>\\n', '26/11/17, 19:48 - Uddeshya Singh: <Media omitted>\\n', '26/11/17, 19:49 - Uddeshya Singh: <Media omitted>\\n', '26/11/17, 19:49 - Uddeshya Singh: <Media omitted>\\n', '26/11/17, 19:49 - Uddeshya Singh: <Media omitted>\\n', '26/11/17, 19:49 - Uddeshya Singh: <Media omitted>\\n', '26/11/17, 19:49 - Uddeshya Singh: <Media omitted>\\n', '26/11/17, 19:50 - Uddeshya Singh: <Media omitted>\\n', '26/11/17, 19:50 - Uddeshya Singh: <Media omitted>\\n', '26/11/17, 19:50 - Uddeshya Singh: <Media omitted>\\n', '26/11/17, 19:50 - Uddeshya Singh: <Media omitted>\\n', '26/11/17, 19:50 - Uddeshya Singh: <Media omitted>\\n', '26/11/17, 19:51 - Uddeshya Singh: <Media omitted>\\n', '26/11/17, 19:51 - Uddeshya Singh: <Media omitted>\\n', '26/11/17, 19:51 - Uddeshya Singh: <Media omitted>\\n', '26/11/17, 21:05 - Siddarth-IT: Thanks\\n', '26/11/17, 23:41 - Siddarth-IT: \\xf0\\x9f\\x98\\x82\\xf0\\x9f\\x98\\x82\\xf0\\x9f\\x98\\x82\\xf0\\x9f\\xa4\\x98\\n', '26/11/17, 23:41 - Uddeshya Singh: \\xf0\\x9f\\x98\\x9b\\n', '29/11/17, 13:56 - Siddarth-IT: Test Your Bond with Siddharth singh https://testourbond.com/quiz/1483372\\n', '15/12/17, 07:42 - Siddarth-IT: <Media omitted>\\n', '16/12/17, 20:43 - Siddarth-IT: THE PEBBLES\\n', '16/12/17, 20:43 - Siddarth-IT: <Media omitted>\\n', '16/12/17, 20:53 - Siddarth-IT: <Media omitted>\\n', '16/12/17, 20:58 - Uddeshya Singh: Looks good \\xf0\\x9f\\x98\\x8b\\n', '16/12/17, 20:59 - Siddarth-IT: Jalo saale\\n', '17/12/17, 11:36 - Uddeshya Singh: Bhup bosdike\\n', '17/12/17, 11:36 - Siddarth-IT: \\xf0\\x9f\\x98\\x82\\xf0\\x9f\\x98\\x82\\xf0\\x9f\\x98\\x82\\n', '18/12/17, 14:53 - Siddarth-IT: Oyee wo kon sa scary story Wala page tha Instagram pe\\n', '18/12/17, 15:54 - Uddeshya Singh: ....?\\n', '18/12/17, 15:54 - Uddeshya Singh: Ttt official\\n', '18/12/17, 17:42 - Siddarth-IT: Ok\\n', '28/12/17, 17:47 - Uddeshya Singh: Ever thought where did those breathtaking lakes come from in those video games? Well.. we got that material for you. The water shader dev video is out\\n', '28/12/17, 17:47 - Uddeshya Singh: https://youtu.be/l1lk-D96zHI\\n', '28/12/17, 17:47 - Uddeshya Singh: Hit like share and subscribe if you find that useful!\\n', '28/12/17, 17:48 - Siddarth-IT: Yes thought\\n', '01/01/18, 15:36 - Siddarth-IT: Happy New year\\xe2\\x98\\xba\\n', '01/01/18, 15:41 - Uddeshya Singh: Same 2 u bruh\\n', '02/01/18, 11:37 - Uddeshya Singh: https://youtu.be/-p2AOh7Jm6o\\n', '02/01/18, 11:37 - Uddeshya Singh: Hey guys.. hit the link for our new video\\n', '02/01/18, 11:37 - Uddeshya Singh: Making shader noise in video games!\\n', '02/01/18, 11:37 - Uddeshya Singh: Hit like share and subscribe and spread the word for supporting us!\\n', '02/01/18, 11:37 - Uddeshya Singh: Have a nice day peeps\\n', '04/01/18, 14:13 - Uddeshya Singh: https://youtu.be/8nb_I5v6LOU\\n', \"04/01/18, 14:13 - Uddeshya Singh: A photoshop tutorial for y'all\\n\", '04/01/18, 21:37 - Uddeshya Singh: Bhai..Vaapas kab pahuchega?\\n', '04/01/18, 21:37 - Uddeshya Singh: Hostel\\n', '04/01/18, 21:37 - Siddarth-IT: 8\\n', '04/01/18, 21:37 - Siddarth-IT: Kyu\\n', '04/01/18, 21:38 - Uddeshya Singh: Okay\\n', '04/01/18, 21:38 - Uddeshya Singh: Aise hi pu6a\\n', '04/01/18, 21:38 - Siddarth-IT: Tu\\n', '04/01/18, 21:38 - Uddeshya Singh: 7\\n', '04/01/18, 21:38 - Siddarth-IT: Ok\\n', '05/01/18, 10:31 - Siddarth-IT: No bed use\\n', '05/01/18, 10:32 - Siddarth-IT: \\xf0\\x9f\\x98\\x90\\n', '05/01/18, 10:46 - Uddeshya Singh: \\xf0\\x9f\\xa4\\xa3\\xf0\\x9f\\xa4\\xa3\\xf0\\x9f\\xa4\\xa3\\xf0\\x9f\\xa4\\xa3\\xf0\\x9f\\xa4\\xa3\\n', '05/01/18, 10:46 - Siddarth-IT: \\xf0\\x9f\\x98\\x82\\n', '05/01/18, 12:35 - Siddarth-IT: Oye ye ml aur python ka Kya hai\\n', '05/01/18, 12:52 - Uddeshya Singh: bhai machine learning yaad hai\\n', '05/01/18, 12:53 - Uddeshya Singh: jo us din mai beth ke dikha raha thaa tumhe?\\n', '05/01/18, 12:53 - Uddeshya Singh: room me?\\n', '05/01/18, 12:53 - Siddarth-IT: Ha ha apple banana\\n', '05/01/18, 12:53 - Siddarth-IT: Weight\\n', '05/01/18, 12:53 - Uddeshya Singh: yes..all that\\n', '05/01/18, 12:53 - Siddarth-IT: Ok\\n', '05/01/18, 12:53 - Uddeshya Singh: so. we will be giving u a deeper dive in ML\\n', '05/01/18, 12:54 - Uddeshya Singh: coz vo sab bhot advanced hai\\n', '05/01/18, 12:54 - Uddeshya Singh: and usse pehle bhi basic cheeze hoti hai\\n', '05/01/18, 12:54 - Siddarth-IT: Ha to group join or liya\\n', '05/01/18, 12:54 - Uddeshya Singh: and ye jo udacity vaala program hai\\n', '05/01/18, 12:54 - Uddeshya Singh: usse bhi join karo and lectures follow karo\\n', '05/01/18, 12:55 - Siddarth-IT: Link please\\n', '05/01/18, 12:55 - Uddeshya Singh: https://in.udacity.com/course/intro-to-machine-learning--ud120\\n', '07/01/18, 08:16 - Siddarth-IT: Happy journey\\n', '07/01/18, 08:16 - Uddeshya Singh: Thenx bruh\\n', '08/01/18, 20:50 - Uddeshya Singh: Bhadwa lag ra hai\\xf0\\x9f\\xa4\\xa3\\xf0\\x9f\\xa4\\xa3\\xf0\\x9f\\xa4\\xa3\\n', '08/01/18, 20:50 - Siddarth-IT: Saale\\n', '08/01/18, 20:50 - Siddarth-IT: Bhaap\\n', '08/01/18, 20:51 - Uddeshya Singh: \\xf0\\x9f\\xa4\\xa3\\xf0\\x9f\\xa4\\xa3\\xf0\\x9f\\xa4\\xa3\\xf0\\x9f\\xa4\\xa3\\xf0\\x9f\\xa4\\xa3\\n', '10/01/18, 12:42 - Siddarth-IT: Pc ki lab me Kya krte hai\\n', '10/01/18, 14:26 - Uddeshya Singh: Bhakchodi\\n', '10/01/18, 14:40 - Siddarth-IT: \\xf0\\x9f\\x98\\x82\\xf0\\x9f\\x98\\x82\\xf0\\x9f\\x98\\x82\\n', '10/01/18, 21:13 - Siddarth-IT: Class kab se hai teri\\n', '10/01/18, 21:14 - Uddeshya Singh: 12 se\\n', '10/01/18, 21:14 - Siddarth-IT: Ok\\n', '12/01/18, 19:40 - Siddarth-IT: Green\\n', '12/01/18, 19:43 - Uddeshya Singh: First public the same story as me, then meet your challenge.\\n', '\\n', '* GREEN *: you have to kiss the 4th person who sees your story (you have to tell me who)\\n', '\\n', '* RED *: you have to say I hate you to the fifth person who sees your story (and you send me the photo)\\n', '\\n', '* BLUE *: you must say I love you to the 6th person who sees your story (and send me a photo)\\n', '12/01/18, 19:43 - Uddeshya Singh: \\xf0\\x9f\\xa4\\xa3\\xf0\\x9f\\xa4\\xa3\\n', '12/01/18, 19:46 - Siddarth-IT: Dekhta hun\\n', '14/01/18, 19:33 - Uddeshya Singh: Bhak bhosdk\\n', '14/01/18, 19:33 - Uddeshya Singh: Man united roz!\\n', '14/01/18, 19:33 - Uddeshya Singh: *rox!\\n', '16/01/18, 10:22 - Siddarth-IT: Bc \\xf0\\x9f\\x98\\x82\\xf0\\x9f\\x98\\x82\\xf0\\x9f\\x98\\x82\\xf0\\x9f\\x98\\x82\\n', '16/01/18, 13:23 - Uddeshya Singh: <Media omitted>\\n', '20/01/18, 10:46 - Uddeshya Singh: https://youtu.be/VRZFsI0fB4Q\\n', '20/01/18, 10:46 - Uddeshya Singh: Advanced landscape creation for video gamers!\\n', '20/01/18, 10:46 - Uddeshya Singh: Do watch it folks\\n', '20/01/18, 10:46 - Uddeshya Singh: Like share and subscribe\\n', \"20/01/18, 10:46 - Uddeshya Singh: You won't be disappointed \\xf0\\x9f\\x99\\x82\\n\", '22/01/18, 19:00 - Uddeshya Singh: Oye\\n', '22/01/18, 19:00 - Uddeshya Singh: Chudo bey\\n', '22/01/18, 19:00 - Uddeshya Singh: Naach bsdk\\n', '22/01/18, 19:00 - Uddeshya Singh: \\xf0\\x9f\\x98\\x8b\\n', '22/01/18, 19:00 - Uddeshya Singh: \\xf0\\x9f\\xa4\\xa3\\n', '22/01/18, 19:00 - Uddeshya Singh: \\xf0\\x9f\\x98\\x91\\n', '22/01/18, 19:00 - Uddeshya Singh: \\xf0\\x9f\\xa4\\xa8\\n', '22/01/18, 19:00 - Uddeshya Singh: \\xf0\\x9f\\x98\\x85\\n', '22/01/18, 19:00 - Uddeshya Singh: \\xf0\\x9f\\x98\\x9b\\n', '22/01/18, 19:00 - Uddeshya Singh: \\xf0\\x9f\\xa4\\xac\\n', '22/01/18, 19:00 - Uddeshya Singh: \\xf0\\x9f\\xa4\\xaa\\n', '22/01/18, 19:00 - Uddeshya Singh: \\xf0\\x9f\\x98\\x8f\\n', '22/01/18, 19:00 - Uddeshya Singh: \\xf0\\x9f\\x98\\x8f\\xf0\\x9f\\x98\\x8f\\n', '22/01/18, 19:00 - Uddeshya Singh: \\xf0\\x9f\\x98\\xa4\\n', '22/01/18, 19:00 - Uddeshya Singh: \\xf0\\x9f\\x98\\xb1\\n', '22/01/18, 19:00 - Uddeshya Singh: \\xf0\\x9f\\x99\\x83\\n', '22/01/18, 19:00 - Uddeshya Singh: \\xf0\\x9f\\x98\\xaf\\n', '22/01/18, 19:00 - Uddeshya Singh: \\xf0\\x9f\\x98\\x9c\\n', '22/01/18, 19:00 - Uddeshya Singh: \\xf0\\x9f\\xa4\\xa9\\n', '22/01/18, 19:00 - Uddeshya Singh: \\xf0\\x9f\\x98\\x98\\n', '22/01/18, 19:00 - Uddeshya Singh: \\xf0\\x9f\\x98\\xa2\\n', '22/01/18, 19:00 - Uddeshya Singh: \\xf0\\x9f\\x98\\xad\\n', '22/01/18, 19:00 - Uddeshya Singh: \\xf0\\x9f\\x98\\x80\\n', '22/01/18, 19:00 - Uddeshya Singh: \\xe2\\x98\\xba\\n', '22/01/18, 19:00 - Uddeshya Singh: \\xf0\\x9f\\x98\\x86\\n', '22/01/18, 19:00 - Uddeshya Singh: \\xf0\\x9f\\xa7\\x90\\n', '22/01/18, 19:00 - Uddeshya Singh: \\xf0\\x9f\\x98\\x82\\n', '22/01/18, 19:00 - Uddeshya Singh: \\xf0\\x9f\\x98\\x81\\n', '22/01/18, 19:00 - Uddeshya Singh: \\xf0\\x9f\\xa4\\x94\\n', '22/01/18, 19:00 - Uddeshya Singh: \\xf0\\x9f\\x99\\x82\\n', '22/01/18, 19:00 - Uddeshya Singh: \\xf0\\x9f\\x98\\xa3\\n', '22/01/18, 19:00 - Uddeshya Singh: \\xf0\\x9f\\xa4\\x99\\xf0\\x9f\\x8f\\xbe\\n', '22/01/18, 19:00 - Uddeshya Singh: \\xf0\\x9f\\xa4\\x9f\\xf0\\x9f\\x8f\\xbd\\n', '22/01/18, 19:00 - Uddeshya Singh: \\xe2\\x9c\\x8c\\xf0\\x9f\\x8f\\xbc\\n', '22/01/18, 19:00 - Uddeshya Singh: \\xf0\\x9f\\x91\\x8d\\xf0\\x9f\\x8f\\xbc\\n', '22/01/18, 19:00 - Uddeshya Singh: \\xf0\\x9f\\x91\\x8c\\xf0\\x9f\\x8f\\xbd\\n', '22/01/18, 19:00 - Uddeshya Singh: \\xf0\\x9f\\x92\\x83\\xf0\\x9f\\x92\\x83\\xf0\\x9f\\x92\\x83\\xf0\\x9f\\x92\\x83\\xf0\\x9f\\x92\\x83\\xf0\\x9f\\x92\\x83\\xf0\\x9f\\x92\\x83\\xf0\\x9f\\x92\\x83\\n', '22/01/18, 19:01 - Uddeshya Singh: Naach maadarjaat\\n']\n"
     ]
    }
   ],
   "source": [
    "print aux"
   ]
  },
  {
   "cell_type": "code",
   "execution_count": 5,
   "metadata": {},
   "outputs": [
    {
     "name": "stdout",
     "output_type": "stream",
     "text": [
      "�\n"
     ]
    }
   ],
   "source": [
    "print '\\x9f'"
   ]
  },
  {
   "cell_type": "code",
   "execution_count": 6,
   "metadata": {},
   "outputs": [],
   "source": [
    "users=[]\n",
    "def getAuxStr(arr):\n",
    "    aux=\"\"\n",
    "    for i in arr:\n",
    "        aux=aux+\" \"+str(i)\n",
    "    return aux.strip()\n",
    "def findUser(arr):\n",
    "    for i in range(2,len(arr)):\n",
    "        if arr[i][-1]==\":\":\n",
    "            aux_string=getAuxStr(arr[3:i])\n",
    "            users.append((aux_string+\" \"+arr[i].split(':')[0]).strip())\n",
    "            \n",
    "for i in aux:\n",
    "    findUser(i.split())            "
   ]
  },
  {
   "cell_type": "code",
   "execution_count": 7,
   "metadata": {},
   "outputs": [
    {
     "name": "stdout",
     "output_type": "stream",
     "text": [
      "['Uddeshya Singh', 'Uddeshya Singh', 'Uddeshya Singh', 'Uddeshya Singh', 'Uddeshya Singh', 'Uddeshya Singh', 'Uddeshya Singh', 'Uddeshya Singh', 'Uddeshya Singh', 'Uddeshya Singh', 'Uddeshya Singh', 'Siddarth-IT', 'Uddeshya Singh', 'Uddeshya Singh', 'Siddarth-IT', 'Siddarth-IT', 'Uddeshya Singh', 'Uddeshya Singh', 'Siddarth-IT', 'Uddeshya Singh', 'Siddarth-IT', 'Uddeshya Singh', 'Siddarth-IT', 'Siddarth-IT', 'Siddarth-IT', 'Siddarth-IT', 'Uddeshya Singh', 'Uddeshya Singh', 'Siddarth-IT', 'Uddeshya Singh', 'Uddeshya Singh', 'Uddeshya Singh', 'Uddeshya Singh', 'Uddeshya Singh', 'Uddeshya Singh', 'Uddeshya Singh', 'Uddeshya Singh', 'Siddarth-IT', 'Uddeshya Singh', 'Siddarth-IT', 'Uddeshya Singh', 'Uddeshya Singh', 'Siddarth-IT', 'Uddeshya Singh', 'Uddeshya Singh', 'Siddarth-IT', 'Uddeshya Singh', 'Uddeshya Singh', 'Siddarth-IT', 'Siddarth-IT', 'Uddeshya Singh', 'Uddeshya Singh', 'Siddarth-IT', 'Siddarth-IT', 'Uddeshya Singh', 'Siddarth-IT', 'Siddarth-IT', 'Uddeshya Singh', 'Siddarth-IT', 'Uddeshya Singh', 'Uddeshya Singh', 'Siddarth-IT', 'Uddeshya Singh', 'Uddeshya Singh', 'Uddeshya Singh', 'Siddarth-IT', 'Siddarth-IT', 'Uddeshya Singh', 'Siddarth-IT', 'Siddarth-IT', 'Uddeshya Singh', 'Siddarth-IT', 'Uddeshya Singh', 'Siddarth-IT', 'Uddeshya Singh', 'Siddarth-IT', 'Siddarth-IT', 'Uddeshya Singh', 'Siddarth-IT', 'Siddarth-IT', 'Siddarth-IT', 'Uddeshya Singh', 'Uddeshya Singh', 'Siddarth-IT', 'Siddarth-IT', 'Uddeshya Singh', 'Uddeshya Singh', 'Uddeshya Singh', 'Siddarth-IT', 'Siddarth-IT', 'Siddarth-IT', 'Uddeshya Singh', 'Uddeshya Singh', 'Uddeshya Singh', 'Siddarth-IT', 'Uddeshya Singh', 'Siddarth-IT', 'Uddeshya Singh', 'Uddeshya Singh', 'Siddarth-IT', 'Uddeshya Singh', 'Siddarth-IT', 'Siddarth-IT', 'Uddeshya Singh', 'Uddeshya Singh', 'Uddeshya Singh', 'Uddeshya Singh', 'Uddeshya Singh', 'Uddeshya Singh', 'Uddeshya Singh', 'Uddeshya Singh', 'Uddeshya Singh', 'Uddeshya Singh', 'Uddeshya Singh', 'Uddeshya Singh', 'Uddeshya Singh', 'Siddarth-IT', 'Uddeshya Singh', 'Uddeshya Singh', 'Siddarth-IT', 'Siddarth-IT', 'Uddeshya Singh', 'Uddeshya Singh', 'Siddarth-IT', 'Siddarth-IT', 'Uddeshya Singh', 'Uddeshya Singh', 'Uddeshya Singh', 'Siddarth-IT', 'Uddeshya Singh', 'Uddeshya Singh', 'Uddeshya Singh', 'Uddeshya Singh', 'Uddeshya Singh', 'Siddarth-IT', 'Uddeshya Singh', 'Siddarth-IT', 'Siddarth-IT', 'Uddeshya Singh', 'Siddarth-IT', 'Siddarth-IT', 'Uddeshya Singh', 'Uddeshya Singh', 'Uddeshya Singh', 'Uddeshya Singh', 'Uddeshya Singh', 'Uddeshya Singh', 'Uddeshya Singh', 'Uddeshya Singh', 'Uddeshya Singh', 'Uddeshya Singh', 'Uddeshya Singh', 'Uddeshya Singh', 'Uddeshya Singh', 'Uddeshya Singh', 'Uddeshya Singh', 'Uddeshya Singh', 'Uddeshya Singh', 'Siddarth-IT', 'Siddarth-IT', 'Uddeshya Singh', 'Siddarth-IT', 'Siddarth-IT', 'Siddarth-IT', 'Siddarth-IT', 'Siddarth-IT', 'Uddeshya Singh', 'Siddarth-IT', 'Uddeshya Singh', 'Siddarth-IT', 'Siddarth-IT', 'Uddeshya Singh', 'Uddeshya Singh', 'Siddarth-IT', 'Uddeshya Singh', 'Uddeshya Singh', 'Uddeshya Singh', 'Siddarth-IT', 'Siddarth-IT', 'Uddeshya Singh', 'Uddeshya Singh', 'Uddeshya Singh', 'Uddeshya Singh', 'Uddeshya Singh', 'Uddeshya Singh', 'Uddeshya Singh', 'Uddeshya Singh', 'Uddeshya Singh', 'Uddeshya Singh', 'Siddarth-IT', 'Siddarth-IT', 'Uddeshya Singh', 'Uddeshya Singh', 'Siddarth-IT', 'Uddeshya Singh', 'Siddarth-IT', 'Siddarth-IT', 'Siddarth-IT', 'Uddeshya Singh', 'Siddarth-IT', 'Siddarth-IT', 'Uddeshya Singh', 'Uddeshya Singh', 'Uddeshya Singh', 'Siddarth-IT', 'Siddarth-IT', 'Uddeshya Singh', 'Siddarth-IT', 'Uddeshya Singh', 'Uddeshya Singh', 'Uddeshya Singh', 'Siddarth-IT', 'Uddeshya Singh', 'Uddeshya Singh', 'Siddarth-IT', 'Uddeshya Singh', 'Siddarth-IT', 'Uddeshya Singh', 'Uddeshya Singh', 'Siddarth-IT', 'Siddarth-IT', 'Uddeshya Singh', 'Siddarth-IT', 'Uddeshya Singh', 'Siddarth-IT', 'Siddarth-IT', 'Uddeshya Singh', 'Siddarth-IT', 'Siddarth-IT', 'Uddeshya Singh', '*', '*', '*', 'Uddeshya Singh', 'Siddarth-IT', 'Uddeshya Singh', 'Uddeshya Singh', 'Uddeshya Singh', 'Siddarth-IT', 'Uddeshya Singh', 'Uddeshya Singh', 'Uddeshya Singh', 'Uddeshya Singh', 'Uddeshya Singh', 'Uddeshya Singh', 'Uddeshya Singh', 'Uddeshya Singh', 'Uddeshya Singh', 'Uddeshya Singh', 'Uddeshya Singh', 'Uddeshya Singh', 'Uddeshya Singh', 'Uddeshya Singh', 'Uddeshya Singh', 'Uddeshya Singh', 'Uddeshya Singh', 'Uddeshya Singh', 'Uddeshya Singh', 'Uddeshya Singh', 'Uddeshya Singh', 'Uddeshya Singh', 'Uddeshya Singh', 'Uddeshya Singh', 'Uddeshya Singh', 'Uddeshya Singh', 'Uddeshya Singh', 'Uddeshya Singh', 'Uddeshya Singh', 'Uddeshya Singh', 'Uddeshya Singh', 'Uddeshya Singh', 'Uddeshya Singh', 'Uddeshya Singh', 'Uddeshya Singh', 'Uddeshya Singh', 'Uddeshya Singh', 'Uddeshya Singh', 'Uddeshya Singh', 'Uddeshya Singh', 'Uddeshya Singh', 'Uddeshya Singh', 'Uddeshya Singh', 'Uddeshya Singh']\n"
     ]
    }
   ],
   "source": [
    "print users"
   ]
  },
  {
   "cell_type": "code",
   "execution_count": 8,
   "metadata": {},
   "outputs": [
    {
     "name": "stdout",
     "output_type": "stream",
     "text": [
      "Uddeshya Singh\n",
      "Siddarth-IT\n",
      "*\n"
     ]
    }
   ],
   "source": [
    "for i in set(users):\n",
    "    print i"
   ]
  },
  {
   "cell_type": "code",
   "execution_count": 9,
   "metadata": {},
   "outputs": [],
   "source": [
    "threshold=10\n",
    "verified=[]\n",
    "for i in set(users):\n",
    "    count=0\n",
    "    for j in users:\n",
    "        if i==j:\n",
    "            count+=1\n",
    "    if count>threshold:\n",
    "        verified.append(i)\n",
    "    "
   ]
  },
  {
   "cell_type": "code",
   "execution_count": 10,
   "metadata": {},
   "outputs": [
    {
     "name": "stdout",
     "output_type": "stream",
     "text": [
      "['Uddeshya Singh', 'Siddarth-IT']\n"
     ]
    }
   ],
   "source": [
    "print verified"
   ]
  },
  {
   "cell_type": "code",
   "execution_count": null,
   "metadata": {},
   "outputs": [],
   "source": []
  }
 ],
 "metadata": {
  "kernelspec": {
   "display_name": "Python 2",
   "language": "python",
   "name": "python2"
  },
  "language_info": {
   "codemirror_mode": {
    "name": "ipython",
    "version": 2
   },
   "file_extension": ".py",
   "mimetype": "text/x-python",
   "name": "python",
   "nbconvert_exporter": "python",
   "pygments_lexer": "ipython2",
   "version": "2.7.12"
  }
 },
 "nbformat": 4,
 "nbformat_minor": 2
}
